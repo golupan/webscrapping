{
 "cells": [
  {
   "cell_type": "markdown",
   "metadata": {},
   "source": [
    "# write a python program to scrape details of all the mobile phones under Rs. 20,000 listed on Amazon.in. The \n",
    "# scraped data should include Product Name, Price, Image URL and Average Rating."
   ]
  },
  {
   "cell_type": "code",
   "execution_count": 3,
   "metadata": {},
   "outputs": [],
   "source": [
    "from bs4 import BeautifulSoup\n",
    "import requests\n",
    "import pandas as pd"
   ]
  },
  {
   "cell_type": "code",
   "execution_count": 4,
   "metadata": {},
   "outputs": [],
   "source": [
    "page1=requests.get('https://www.amazon.in/best-mobile-under-20000/s?k=best+mobile+under+20000')"
   ]
  },
  {
   "cell_type": "code",
   "execution_count": 5,
   "metadata": {},
   "outputs": [],
   "source": [
    "soup1= BeautifulSoup(page1.content,'html.parser')"
   ]
  },
  {
   "cell_type": "code",
   "execution_count": 6,
   "metadata": {},
   "outputs": [],
   "source": [
    "Product=[] \n",
    "Price=[]\n",
    "Rating=[]\n",
    "Image=[]"
   ]
  },
  {
   "cell_type": "code",
   "execution_count": 7,
   "metadata": {},
   "outputs": [
    {
     "data": {
      "text/plain": [
       "[<span class=\"a-size-medium a-color-base a-text-normal\">Samsung Galaxy M12 (Blue,4GB RAM, 64GB Storage) 6000 mAh with 8nm Processor | True 48 MP Quad Camera | 90Hz Refresh Rate</span>,\n",
       " <span class=\"a-size-medium a-color-base a-text-normal\">Redmi 9A (Nature Green, 2GB RAM, 32GB Storage) | 2GHz Octa-core Helio G25 Processor | 5000 mAh Battery</span>,\n",
       " <span class=\"a-size-medium a-color-base a-text-normal\">Redmi 9 (Sky Blue, 4GB RAM, 64GB Storage)| 5000 mAh| 2.3GHz Mediatek Helio G35 Octa core Processor</span>,\n",
       " <span class=\"a-size-medium a-color-base a-text-normal\">Oppo A31 (Mystery Black, 6GB RAM, 128GB Storage) with No Cost EMI/Additional Exchange Offers</span>,\n",
       " <span class=\"a-size-medium a-color-base a-text-normal\">Samsung Galaxy M31 (Ocean Blue, 6GB RAM, 128GB Storage)</span>,\n",
       " <span class=\"a-size-medium a-color-base a-text-normal\">Samsung Galaxy M12 (Blue,6GB RAM, 128GB Storage) 6000 mAh with 8nm Processor | True 48 MP Quad Camera | 90Hz Refresh Rate</span>,\n",
       " <span class=\"a-size-medium a-color-base a-text-normal\">Samsung Galaxy M11 (Metallic Blue, 4GB RAM, 64GB Storage) with No Cost EMI/Additional Exchange Offers</span>,\n",
       " <span class=\"a-size-medium a-color-base a-text-normal\">Oppo A31 (Fantasy White, 6GB RAM, 128GB Storage) with No Cost EMI/Additional Exchange Offers</span>,\n",
       " <span class=\"a-size-medium a-color-base a-text-normal\">Redmi Note 10 (Shadow Black, 6GB RAM, 128GB Storage)</span>,\n",
       " <span class=\"a-size-medium a-color-base a-text-normal\">Redmi Note 9 (Pebble Grey, 4GB RAM 64GB Storage) - 48MP Quad Camera &amp; Full HD+ Display</span>,\n",
       " <span class=\"a-size-medium a-color-base a-text-normal\">Redmi 9 (Carbon Black, 4GB RAM, 64GB Storage) | 5000 mAh| 2.3GHz Mediatek Helio G35 Octa core Processor</span>,\n",
       " <span class=\"a-size-medium a-color-base a-text-normal\">Samsung Galaxy M12 (Black,4GB RAM, 64GB Storage) 6000 mAh with 8nm Processor | True 48 MP Quad Camera | 90Hz Refresh Rate</span>,\n",
       " <span class=\"a-size-medium a-color-base a-text-normal\">Redmi 9A (Nature Green, 3GB Ram, 32GB Storage) | 2GHz Octa-core Helio G25 Processor</span>,\n",
       " <span class=\"a-size-medium a-color-base a-text-normal\">Samsung Galaxy M11 (Violet, 4GB RAM, 64GB Storage) with No Cost EMI/Additional Exchange Offers</span>,\n",
       " <span class=\"a-size-medium a-color-base a-text-normal\">Redmi 9A (Sea Blue 3GB RAM 32GB Storage)| 2GHz Octa-core Helio G25 Processor | 5000 mAh Battery</span>,\n",
       " <span class=\"a-size-medium a-color-base a-text-normal\">Redmi 9A (Midnight Black 2GB RAM 32GB Storage) | 2GHz Octa-core Helio G25 Processor | 5000 mAh Battery</span>]"
      ]
     },
     "execution_count": 7,
     "metadata": {},
     "output_type": "execute_result"
    }
   ],
   "source": [
    "prod= soup1.find_all('span',class_='a-size-medium a-color-base a-text-normal')\n",
    "prod"
   ]
  },
  {
   "cell_type": "code",
   "execution_count": 8,
   "metadata": {},
   "outputs": [],
   "source": [
    "for i in prod:\n",
    "    Product.append(i.text)"
   ]
  },
  {
   "cell_type": "code",
   "execution_count": 9,
   "metadata": {},
   "outputs": [
    {
     "data": {
      "text/plain": [
       "['Samsung Galaxy M12 (Blue,4GB RAM, 64GB Storage) 6000 mAh with 8nm Processor | True 48 MP Quad Camera | 90Hz Refresh Rate',\n",
       " 'Redmi 9A (Nature Green, 2GB RAM, 32GB Storage) | 2GHz Octa-core Helio G25 Processor | 5000 mAh Battery',\n",
       " 'Redmi 9 (Sky Blue, 4GB RAM, 64GB Storage)| 5000 mAh| 2.3GHz Mediatek Helio G35 Octa core Processor',\n",
       " 'Oppo A31 (Mystery Black, 6GB RAM, 128GB Storage) with No Cost EMI/Additional Exchange Offers',\n",
       " 'Samsung Galaxy M31 (Ocean Blue, 6GB RAM, 128GB Storage)',\n",
       " 'Samsung Galaxy M12 (Blue,6GB RAM, 128GB Storage) 6000 mAh with 8nm Processor | True 48 MP Quad Camera | 90Hz Refresh Rate',\n",
       " 'Samsung Galaxy M11 (Metallic Blue, 4GB RAM, 64GB Storage) with No Cost EMI/Additional Exchange Offers',\n",
       " 'Oppo A31 (Fantasy White, 6GB RAM, 128GB Storage) with No Cost EMI/Additional Exchange Offers',\n",
       " 'Redmi Note 10 (Shadow Black, 6GB RAM, 128GB Storage)',\n",
       " 'Redmi Note 9 (Pebble Grey, 4GB RAM 64GB Storage) - 48MP Quad Camera & Full HD+ Display',\n",
       " 'Redmi 9 (Carbon Black, 4GB RAM, 64GB Storage) | 5000 mAh| 2.3GHz Mediatek Helio G35 Octa core Processor',\n",
       " 'Samsung Galaxy M12 (Black,4GB RAM, 64GB Storage) 6000 mAh with 8nm Processor | True 48 MP Quad Camera | 90Hz Refresh Rate',\n",
       " 'Redmi 9A (Nature Green, 3GB Ram, 32GB Storage) | 2GHz Octa-core Helio G25 Processor',\n",
       " 'Samsung Galaxy M11 (Violet, 4GB RAM, 64GB Storage) with No Cost EMI/Additional Exchange Offers',\n",
       " 'Redmi 9A (Sea Blue 3GB RAM 32GB Storage)| 2GHz Octa-core Helio G25 Processor | 5000 mAh Battery',\n",
       " 'Redmi 9A (Midnight Black 2GB RAM 32GB Storage) | 2GHz Octa-core Helio G25 Processor | 5000 mAh Battery']"
      ]
     },
     "execution_count": 9,
     "metadata": {},
     "output_type": "execute_result"
    }
   ],
   "source": [
    "Product"
   ]
  },
  {
   "cell_type": "code",
   "execution_count": 10,
   "metadata": {},
   "outputs": [
    {
     "data": {
      "text/plain": [
       "[<span class=\"a-price-whole\">10,499</span>,\n",
       " <span class=\"a-price-whole\">6,799</span>,\n",
       " <span class=\"a-price-whole\">8,799</span>,\n",
       " <span class=\"a-price-whole\">14,999</span>,\n",
       " <span class=\"a-price-whole\">16,999</span>,\n",
       " <span class=\"a-price-whole\">11,490</span>,\n",
       " <span class=\"a-price-whole\">14,999</span>,\n",
       " <span class=\"a-price-whole\">12,999</span>,\n",
       " <span class=\"a-price-whole\">8,999</span>,\n",
       " <span class=\"a-price-whole\">11,490</span>,\n",
       " <span class=\"a-price-whole\">14,499</span>,\n",
       " <span class=\"a-price-whole\">10,999</span>,\n",
       " <span class=\"a-price-whole\">8,799</span>,\n",
       " <span class=\"a-price-whole\">10,499</span>,\n",
       " <span class=\"a-price-whole\">7,500</span>,\n",
       " <span class=\"a-price-whole\">8,999</span>,\n",
       " <span class=\"a-price-whole\">7,500</span>,\n",
       " <span class=\"a-price-whole\">6,799</span>]"
      ]
     },
     "execution_count": 10,
     "metadata": {},
     "output_type": "execute_result"
    }
   ],
   "source": [
    "pri= soup1.find_all('span',class_='a-price-whole')\n",
    "pri"
   ]
  },
  {
   "cell_type": "code",
   "execution_count": 11,
   "metadata": {},
   "outputs": [
    {
     "data": {
      "text/plain": [
       "['10,499',\n",
       " '6,799',\n",
       " '8,799',\n",
       " '14,999',\n",
       " '16,999',\n",
       " '11,490',\n",
       " '14,999',\n",
       " '12,999',\n",
       " '8,999',\n",
       " '11,490',\n",
       " '14,499',\n",
       " '10,999',\n",
       " '8,799',\n",
       " '10,499',\n",
       " '7,500',\n",
       " '8,999',\n",
       " '7,500',\n",
       " '6,799']"
      ]
     },
     "execution_count": 11,
     "metadata": {},
     "output_type": "execute_result"
    }
   ],
   "source": [
    "for i in pri:\n",
    "    Price.append(i.text)\n",
    "    \n",
    "Price"
   ]
  },
  {
   "cell_type": "code",
   "execution_count": 12,
   "metadata": {},
   "outputs": [
    {
     "data": {
      "text/plain": [
       "[<span class=\"a-icon-alt\">4.1 out of 5 stars</span>,\n",
       " <span class=\"a-icon-alt\">4.2 out of 5 stars</span>,\n",
       " <span class=\"a-icon-alt\">4.2 out of 5 stars</span>,\n",
       " <span class=\"a-icon-alt\">4.3 out of 5 stars</span>,\n",
       " <span class=\"a-icon-alt\">4.3 out of 5 stars</span>,\n",
       " <span class=\"a-icon-alt\">4.3 out of 5 stars</span>,\n",
       " <span class=\"a-icon-alt\">4.2 out of 5 stars</span>,\n",
       " <span class=\"a-icon-alt\">4.3 out of 5 stars</span>,\n",
       " <span class=\"a-icon-alt\">4.1 out of 5 stars</span>,\n",
       " <span class=\"a-icon-alt\">4.2 out of 5 stars</span>,\n",
       " <span class=\"a-icon-alt\">4.2 out of 5 stars</span>,\n",
       " <span class=\"a-icon-alt\">4.1 out of 5 stars</span>,\n",
       " <span class=\"a-icon-alt\">4.3 out of 5 stars</span>,\n",
       " <span class=\"a-icon-alt\">4.2 out of 5 stars</span>,\n",
       " <span class=\"a-icon-alt\">4.1 out of 5 stars</span>,\n",
       " <span class=\"a-icon-alt\">4.2 out of 5 stars</span>,\n",
       " <span class=\"a-icon-alt\">4.2 out of 5 stars</span>,\n",
       " <span class=\"a-icon-alt\">4.2 out of 5 stars</span>,\n",
       " <span class=\"a-icon-alt\">4.2 out of 5 stars</span>,\n",
       " <span class=\"a-icon-alt\">4 Stars &amp; Up</span>,\n",
       " <span class=\"a-icon-alt\">3 Stars &amp; Up</span>,\n",
       " <span class=\"a-icon-alt\">2 Stars &amp; Up</span>,\n",
       " <span class=\"a-icon-alt\">1 Star &amp; Up</span>]"
      ]
     },
     "execution_count": 12,
     "metadata": {},
     "output_type": "execute_result"
    }
   ],
   "source": [
    "rating= soup1.find_all('span',class_='a-icon-alt')\n",
    "rating"
   ]
  },
  {
   "cell_type": "code",
   "execution_count": 13,
   "metadata": {},
   "outputs": [
    {
     "data": {
      "text/plain": [
       "['4.1 out of 5 stars',\n",
       " '4.2 out of 5 stars',\n",
       " '4.2 out of 5 stars',\n",
       " '4.3 out of 5 stars',\n",
       " '4.3 out of 5 stars',\n",
       " '4.3 out of 5 stars',\n",
       " '4.2 out of 5 stars',\n",
       " '4.3 out of 5 stars',\n",
       " '4.1 out of 5 stars',\n",
       " '4.2 out of 5 stars',\n",
       " '4.2 out of 5 stars',\n",
       " '4.1 out of 5 stars',\n",
       " '4.3 out of 5 stars',\n",
       " '4.2 out of 5 stars',\n",
       " '4.1 out of 5 stars',\n",
       " '4.2 out of 5 stars',\n",
       " '4.2 out of 5 stars',\n",
       " '4.2 out of 5 stars',\n",
       " '4.2 out of 5 stars',\n",
       " '4 Stars & Up',\n",
       " '3 Stars & Up',\n",
       " '2 Stars & Up',\n",
       " '1 Star & Up']"
      ]
     },
     "execution_count": 13,
     "metadata": {},
     "output_type": "execute_result"
    }
   ],
   "source": [
    "for i in rating:\n",
    "    Rating.append(i.text)\n",
    "    \n",
    "Rating"
   ]
  },
  {
   "cell_type": "code",
   "execution_count": 14,
   "metadata": {},
   "outputs": [
    {
     "data": {
      "text/plain": [
       "[<div class=\"a-section aok-relative s-image-fixed-height\"><img alt=\"Samsung Galaxy M12 (Blue,4GB RAM, 64GB Storage) 6000 mAh with 8nm Processor | True 48 MP Quad Camera | 90Hz Refresh Rate\" class=\"s-image\" data-image-index=\"1\" data-image-latency=\"s-product-image\" data-image-load=\"\" data-image-source-density=\"1\" src=\"https://m.media-amazon.com/images/I/71yYaNztZ0L._AC_UY218_.jpg\" srcset=\"https://m.media-amazon.com/images/I/71yYaNztZ0L._AC_UY218_.jpg 1x, https://m.media-amazon.com/images/I/71yYaNztZ0L._AC_UY327_QL65_.jpg 1.5x, https://m.media-amazon.com/images/I/71yYaNztZ0L._AC_UY436_QL65_.jpg 2x, https://m.media-amazon.com/images/I/71yYaNztZ0L._AC_UY545_QL65_.jpg 2.5x, https://m.media-amazon.com/images/I/71yYaNztZ0L._AC_UY654_QL65_.jpg 3x\"/></div>,\n",
       " <div class=\"a-section aok-relative s-image-fixed-height\"><img alt=\"Redmi 9A (Nature Green, 2GB RAM, 32GB Storage) | 2GHz Octa-core Helio G25 Processor | 5000 mAh Battery\" class=\"s-image\" data-image-index=\"2\" data-image-latency=\"s-product-image\" data-image-load=\"\" data-image-source-density=\"1\" src=\"https://m.media-amazon.com/images/I/71sxlhYhKWL._AC_UY218_.jpg\" srcset=\"https://m.media-amazon.com/images/I/71sxlhYhKWL._AC_UY218_.jpg 1x, https://m.media-amazon.com/images/I/71sxlhYhKWL._AC_UY327_QL65_.jpg 1.5x, https://m.media-amazon.com/images/I/71sxlhYhKWL._AC_UY436_QL65_.jpg 2x, https://m.media-amazon.com/images/I/71sxlhYhKWL._AC_UY545_QL65_.jpg 2.5x, https://m.media-amazon.com/images/I/71sxlhYhKWL._AC_UY654_QL65_.jpg 3x\"/></div>,\n",
       " <div class=\"a-section aok-relative s-image-fixed-height\"><img alt=\"Redmi 9 (Sky Blue, 4GB RAM, 64GB Storage)| 5000 mAh| 2.3GHz Mediatek Helio G35 Octa core Processor\" class=\"s-image\" data-image-index=\"3\" data-image-latency=\"s-product-image\" data-image-load=\"\" data-image-source-density=\"1\" src=\"https://m.media-amazon.com/images/I/71A9Vo1BatL._AC_UY218_.jpg\" srcset=\"https://m.media-amazon.com/images/I/71A9Vo1BatL._AC_UY218_.jpg 1x, https://m.media-amazon.com/images/I/71A9Vo1BatL._AC_UY327_QL65_.jpg 1.5x, https://m.media-amazon.com/images/I/71A9Vo1BatL._AC_UY436_QL65_.jpg 2x, https://m.media-amazon.com/images/I/71A9Vo1BatL._AC_UY545_QL65_.jpg 2.5x, https://m.media-amazon.com/images/I/71A9Vo1BatL._AC_UY654_QL65_.jpg 3x\"/></div>,\n",
       " <div class=\"a-section aok-relative s-image-fixed-height\"><img alt=\"Oppo A31 (Mystery Black, 6GB RAM, 128GB Storage) with No Cost EMI/Additional Exchange Offers\" class=\"s-image\" data-image-index=\"4\" data-image-latency=\"s-product-image\" data-image-load=\"\" data-image-source-density=\"1\" src=\"https://m.media-amazon.com/images/I/71KCwNV6MuL._AC_UY218_.jpg\" srcset=\"https://m.media-amazon.com/images/I/71KCwNV6MuL._AC_UY218_.jpg 1x, https://m.media-amazon.com/images/I/71KCwNV6MuL._AC_UY327_QL65_.jpg 1.5x, https://m.media-amazon.com/images/I/71KCwNV6MuL._AC_UY436_QL65_.jpg 2x, https://m.media-amazon.com/images/I/71KCwNV6MuL._AC_UY545_QL65_.jpg 2.5x, https://m.media-amazon.com/images/I/71KCwNV6MuL._AC_UY654_QL65_.jpg 3x\"/></div>,\n",
       " <div class=\"a-section aok-relative s-image-fixed-height\"><img alt=\"Samsung Galaxy M31 (Ocean Blue, 6GB RAM, 128GB Storage)\" class=\"s-image\" data-image-index=\"5\" data-image-latency=\"s-product-image\" data-image-load=\"\" data-image-source-density=\"1\" src=\"https://m.media-amazon.com/images/I/71-Su4Wr0HL._AC_UY218_.jpg\" srcset=\"https://m.media-amazon.com/images/I/71-Su4Wr0HL._AC_UY218_.jpg 1x, https://m.media-amazon.com/images/I/71-Su4Wr0HL._AC_UY327_QL65_.jpg 1.5x, https://m.media-amazon.com/images/I/71-Su4Wr0HL._AC_UY436_QL65_.jpg 2x, https://m.media-amazon.com/images/I/71-Su4Wr0HL._AC_UY545_QL65_.jpg 2.5x, https://m.media-amazon.com/images/I/71-Su4Wr0HL._AC_UY654_QL65_.jpg 3x\"/></div>,\n",
       " <div class=\"a-section aok-relative s-image-fixed-height\"><img alt=\"Samsung Galaxy M12 (Blue,6GB RAM, 128GB Storage) 6000 mAh with 8nm Processor | True 48 MP Quad Camera | 90Hz Refresh Rate\" class=\"s-image\" data-image-index=\"6\" data-image-latency=\"s-product-image\" data-image-load=\"\" data-image-source-density=\"1\" src=\"https://m.media-amazon.com/images/I/71yYaNztZ0L._AC_UY218_.jpg\" srcset=\"https://m.media-amazon.com/images/I/71yYaNztZ0L._AC_UY218_.jpg 1x, https://m.media-amazon.com/images/I/71yYaNztZ0L._AC_UY327_QL65_.jpg 1.5x, https://m.media-amazon.com/images/I/71yYaNztZ0L._AC_UY436_QL65_.jpg 2x, https://m.media-amazon.com/images/I/71yYaNztZ0L._AC_UY545_QL65_.jpg 2.5x, https://m.media-amazon.com/images/I/71yYaNztZ0L._AC_UY654_QL65_.jpg 3x\"/></div>,\n",
       " <div class=\"a-section aok-relative s-image-fixed-height\"><img alt=\"Samsung Galaxy M11 (Metallic Blue, 4GB RAM, 64GB Storage) with No Cost EMI/Additional Exchange Offers\" class=\"s-image\" data-image-index=\"7\" data-image-latency=\"s-product-image\" data-image-load=\"\" data-image-source-density=\"1\" src=\"https://m.media-amazon.com/images/I/71GQUxuSpnS._AC_UY218_.jpg\" srcset=\"https://m.media-amazon.com/images/I/71GQUxuSpnS._AC_UY218_.jpg 1x, https://m.media-amazon.com/images/I/71GQUxuSpnS._AC_UY327_QL65_.jpg 1.5x, https://m.media-amazon.com/images/I/71GQUxuSpnS._AC_UY436_QL65_.jpg 2x, https://m.media-amazon.com/images/I/71GQUxuSpnS._AC_UY545_QL65_.jpg 2.5x, https://m.media-amazon.com/images/I/71GQUxuSpnS._AC_UY654_QL65_.jpg 3x\"/></div>,\n",
       " <div class=\"a-section aok-relative s-image-fixed-height\"><img alt=\"Oppo A31 (Fantasy White, 6GB RAM, 128GB Storage) with No Cost EMI/Additional Exchange Offers\" class=\"s-image\" data-image-index=\"8\" data-image-latency=\"s-product-image\" data-image-load=\"\" data-image-source-density=\"1\" src=\"https://m.media-amazon.com/images/I/61IhTtJUXJL._AC_UY218_.jpg\" srcset=\"https://m.media-amazon.com/images/I/61IhTtJUXJL._AC_UY218_.jpg 1x, https://m.media-amazon.com/images/I/61IhTtJUXJL._AC_UY327_QL65_.jpg 1.5x, https://m.media-amazon.com/images/I/61IhTtJUXJL._AC_UY436_QL65_.jpg 2x, https://m.media-amazon.com/images/I/61IhTtJUXJL._AC_UY545_QL65_.jpg 2.5x, https://m.media-amazon.com/images/I/61IhTtJUXJL._AC_UY654_QL65_.jpg 3x\"/></div>,\n",
       " <div class=\"a-section aok-relative s-image-fixed-height\"><img alt=\"Redmi Note 10 (Shadow Black, 6GB RAM, 128GB Storage)\" class=\"s-image\" data-image-index=\"9\" data-image-latency=\"s-product-image\" data-image-load=\"\" data-image-source-density=\"1\" src=\"https://m.media-amazon.com/images/I/715t-uJnjMS._AC_UY218_.jpg\" srcset=\"https://m.media-amazon.com/images/I/715t-uJnjMS._AC_UY218_.jpg 1x, https://m.media-amazon.com/images/I/715t-uJnjMS._AC_UY327_QL65_.jpg 1.5x, https://m.media-amazon.com/images/I/715t-uJnjMS._AC_UY436_QL65_.jpg 2x, https://m.media-amazon.com/images/I/715t-uJnjMS._AC_UY545_QL65_.jpg 2.5x, https://m.media-amazon.com/images/I/715t-uJnjMS._AC_UY654_QL65_.jpg 3x\"/></div>,\n",
       " <div class=\"a-section aok-relative s-image-fixed-height\"><img alt=\"Redmi Note 9 (Pebble Grey, 4GB RAM 64GB Storage) - 48MP Quad Camera &amp; Full HD+ Display\" class=\"s-image\" data-image-index=\"10\" data-image-latency=\"s-product-image\" data-image-load=\"\" data-image-source-density=\"1\" src=\"https://m.media-amazon.com/images/I/71X5I1cVfbL._AC_UY218_.jpg\" srcset=\"https://m.media-amazon.com/images/I/71X5I1cVfbL._AC_UY218_.jpg 1x, https://m.media-amazon.com/images/I/71X5I1cVfbL._AC_UY327_QL65_.jpg 1.5x, https://m.media-amazon.com/images/I/71X5I1cVfbL._AC_UY436_QL65_.jpg 2x, https://m.media-amazon.com/images/I/71X5I1cVfbL._AC_UY545_QL65_.jpg 2.5x, https://m.media-amazon.com/images/I/71X5I1cVfbL._AC_UY654_QL65_.jpg 3x\"/></div>,\n",
       " <div class=\"a-section aok-relative s-image-fixed-height\"><img alt=\"Redmi 9 (Carbon Black, 4GB RAM, 64GB Storage) | 5000 mAh| 2.3GHz Mediatek Helio G35 Octa core Processor\" class=\"s-image\" data-image-index=\"11\" data-image-latency=\"s-product-image\" data-image-load=\"\" data-image-source-density=\"1\" src=\"https://m.media-amazon.com/images/I/716nHhG9SWL._AC_UY218_.jpg\" srcset=\"https://m.media-amazon.com/images/I/716nHhG9SWL._AC_UY218_.jpg 1x, https://m.media-amazon.com/images/I/716nHhG9SWL._AC_UY327_QL65_.jpg 1.5x, https://m.media-amazon.com/images/I/716nHhG9SWL._AC_UY436_QL65_.jpg 2x, https://m.media-amazon.com/images/I/716nHhG9SWL._AC_UY545_QL65_.jpg 2.5x, https://m.media-amazon.com/images/I/716nHhG9SWL._AC_UY654_QL65_.jpg 3x\"/></div>,\n",
       " <div class=\"a-section aok-relative s-image-fixed-height\"><img alt=\"Samsung Galaxy M12 (Black,4GB RAM, 64GB Storage) 6000 mAh with 8nm Processor | True 48 MP Quad Camera | 90Hz Refresh Rate\" class=\"s-image\" data-image-index=\"12\" data-image-latency=\"s-product-image\" data-image-load=\"\" data-image-source-density=\"1\" src=\"https://m.media-amazon.com/images/I/714QWDxXgNL._AC_UY218_.jpg\" srcset=\"https://m.media-amazon.com/images/I/714QWDxXgNL._AC_UY218_.jpg 1x, https://m.media-amazon.com/images/I/714QWDxXgNL._AC_UY327_QL65_.jpg 1.5x, https://m.media-amazon.com/images/I/714QWDxXgNL._AC_UY436_QL65_.jpg 2x, https://m.media-amazon.com/images/I/714QWDxXgNL._AC_UY545_QL65_.jpg 2.5x, https://m.media-amazon.com/images/I/714QWDxXgNL._AC_UY654_QL65_.jpg 3x\"/></div>,\n",
       " <div class=\"a-section aok-relative s-image-fixed-height\"><img alt=\"Redmi 9A (Nature Green, 3GB Ram, 32GB Storage) | 2GHz Octa-core Helio G25 Processor\" class=\"s-image\" data-image-index=\"13\" data-image-latency=\"s-product-image\" data-image-load=\"\" data-image-source-density=\"1\" src=\"https://m.media-amazon.com/images/I/71sxlhYhKWL._AC_UY218_.jpg\" srcset=\"https://m.media-amazon.com/images/I/71sxlhYhKWL._AC_UY218_.jpg 1x, https://m.media-amazon.com/images/I/71sxlhYhKWL._AC_UY327_QL65_.jpg 1.5x, https://m.media-amazon.com/images/I/71sxlhYhKWL._AC_UY436_QL65_.jpg 2x, https://m.media-amazon.com/images/I/71sxlhYhKWL._AC_UY545_QL65_.jpg 2.5x, https://m.media-amazon.com/images/I/71sxlhYhKWL._AC_UY654_QL65_.jpg 3x\"/></div>,\n",
       " <div class=\"a-section aok-relative s-image-fixed-height\"><img alt=\"Samsung Galaxy M11 (Violet, 4GB RAM, 64GB Storage) with No Cost EMI/Additional Exchange Offers\" class=\"s-image\" data-image-index=\"14\" data-image-latency=\"s-product-image\" data-image-load=\"\" data-image-source-density=\"1\" src=\"https://m.media-amazon.com/images/I/713asoeJn7S._AC_UY218_.jpg\" srcset=\"https://m.media-amazon.com/images/I/713asoeJn7S._AC_UY218_.jpg 1x, https://m.media-amazon.com/images/I/713asoeJn7S._AC_UY327_QL65_.jpg 1.5x, https://m.media-amazon.com/images/I/713asoeJn7S._AC_UY436_QL65_.jpg 2x, https://m.media-amazon.com/images/I/713asoeJn7S._AC_UY545_QL65_.jpg 2.5x, https://m.media-amazon.com/images/I/713asoeJn7S._AC_UY654_QL65_.jpg 3x\"/></div>,\n",
       " <div class=\"a-section aok-relative s-image-fixed-height\"><img alt=\"Redmi 9A (Sea Blue 3GB RAM 32GB Storage)| 2GHz Octa-core Helio G25 Processor | 5000 mAh Battery\" class=\"s-image\" data-image-index=\"15\" data-image-latency=\"s-product-image\" data-image-load=\"\" data-image-source-density=\"1\" src=\"https://m.media-amazon.com/images/I/71sxlhYhKWL._AC_UY218_.jpg\" srcset=\"https://m.media-amazon.com/images/I/71sxlhYhKWL._AC_UY218_.jpg 1x, https://m.media-amazon.com/images/I/71sxlhYhKWL._AC_UY327_QL65_.jpg 1.5x, https://m.media-amazon.com/images/I/71sxlhYhKWL._AC_UY436_QL65_.jpg 2x, https://m.media-amazon.com/images/I/71sxlhYhKWL._AC_UY545_QL65_.jpg 2.5x, https://m.media-amazon.com/images/I/71sxlhYhKWL._AC_UY654_QL65_.jpg 3x\"/></div>,\n",
       " <div class=\"a-section aok-relative s-image-fixed-height\"><img alt=\"Redmi 9A (Midnight Black 2GB RAM 32GB Storage) | 2GHz Octa-core Helio G25 Processor | 5000 mAh Battery\" class=\"s-image\" data-image-index=\"16\" data-image-latency=\"s-product-image\" data-image-load=\"\" data-image-source-density=\"1\" src=\"https://m.media-amazon.com/images/I/71sxlhYhKWL._AC_UY218_.jpg\" srcset=\"https://m.media-amazon.com/images/I/71sxlhYhKWL._AC_UY218_.jpg 1x, https://m.media-amazon.com/images/I/71sxlhYhKWL._AC_UY327_QL65_.jpg 1.5x, https://m.media-amazon.com/images/I/71sxlhYhKWL._AC_UY436_QL65_.jpg 2x, https://m.media-amazon.com/images/I/71sxlhYhKWL._AC_UY545_QL65_.jpg 2.5x, https://m.media-amazon.com/images/I/71sxlhYhKWL._AC_UY654_QL65_.jpg 3x\"/></div>]"
      ]
     },
     "execution_count": 14,
     "metadata": {},
     "output_type": "execute_result"
    }
   ],
   "source": [
    "img= soup1.find_all('div', class_='a-section aok-relative s-image-fixed-height')\n",
    "img"
   ]
  },
  {
   "cell_type": "code",
   "execution_count": 15,
   "metadata": {},
   "outputs": [
    {
     "data": {
      "text/plain": [
       "[<img alt=\"Samsung Galaxy M12 (Blue,4GB RAM, 64GB Storage) 6000 mAh with 8nm Processor | True 48 MP Quad Camera | 90Hz Refresh Rate\" class=\"s-image\" data-image-index=\"1\" data-image-latency=\"s-product-image\" data-image-load=\"\" data-image-source-density=\"1\" src=\"https://m.media-amazon.com/images/I/71yYaNztZ0L._AC_UY218_.jpg\" srcset=\"https://m.media-amazon.com/images/I/71yYaNztZ0L._AC_UY218_.jpg 1x, https://m.media-amazon.com/images/I/71yYaNztZ0L._AC_UY327_QL65_.jpg 1.5x, https://m.media-amazon.com/images/I/71yYaNztZ0L._AC_UY436_QL65_.jpg 2x, https://m.media-amazon.com/images/I/71yYaNztZ0L._AC_UY545_QL65_.jpg 2.5x, https://m.media-amazon.com/images/I/71yYaNztZ0L._AC_UY654_QL65_.jpg 3x\"/>,\n",
       " <img alt=\"Redmi 9A (Nature Green, 2GB RAM, 32GB Storage) | 2GHz Octa-core Helio G25 Processor | 5000 mAh Battery\" class=\"s-image\" data-image-index=\"2\" data-image-latency=\"s-product-image\" data-image-load=\"\" data-image-source-density=\"1\" src=\"https://m.media-amazon.com/images/I/71sxlhYhKWL._AC_UY218_.jpg\" srcset=\"https://m.media-amazon.com/images/I/71sxlhYhKWL._AC_UY218_.jpg 1x, https://m.media-amazon.com/images/I/71sxlhYhKWL._AC_UY327_QL65_.jpg 1.5x, https://m.media-amazon.com/images/I/71sxlhYhKWL._AC_UY436_QL65_.jpg 2x, https://m.media-amazon.com/images/I/71sxlhYhKWL._AC_UY545_QL65_.jpg 2.5x, https://m.media-amazon.com/images/I/71sxlhYhKWL._AC_UY654_QL65_.jpg 3x\"/>,\n",
       " <img alt=\"Redmi 9 (Sky Blue, 4GB RAM, 64GB Storage)| 5000 mAh| 2.3GHz Mediatek Helio G35 Octa core Processor\" class=\"s-image\" data-image-index=\"3\" data-image-latency=\"s-product-image\" data-image-load=\"\" data-image-source-density=\"1\" src=\"https://m.media-amazon.com/images/I/71A9Vo1BatL._AC_UY218_.jpg\" srcset=\"https://m.media-amazon.com/images/I/71A9Vo1BatL._AC_UY218_.jpg 1x, https://m.media-amazon.com/images/I/71A9Vo1BatL._AC_UY327_QL65_.jpg 1.5x, https://m.media-amazon.com/images/I/71A9Vo1BatL._AC_UY436_QL65_.jpg 2x, https://m.media-amazon.com/images/I/71A9Vo1BatL._AC_UY545_QL65_.jpg 2.5x, https://m.media-amazon.com/images/I/71A9Vo1BatL._AC_UY654_QL65_.jpg 3x\"/>,\n",
       " <img alt=\"Oppo A31 (Mystery Black, 6GB RAM, 128GB Storage) with No Cost EMI/Additional Exchange Offers\" class=\"s-image\" data-image-index=\"4\" data-image-latency=\"s-product-image\" data-image-load=\"\" data-image-source-density=\"1\" src=\"https://m.media-amazon.com/images/I/71KCwNV6MuL._AC_UY218_.jpg\" srcset=\"https://m.media-amazon.com/images/I/71KCwNV6MuL._AC_UY218_.jpg 1x, https://m.media-amazon.com/images/I/71KCwNV6MuL._AC_UY327_QL65_.jpg 1.5x, https://m.media-amazon.com/images/I/71KCwNV6MuL._AC_UY436_QL65_.jpg 2x, https://m.media-amazon.com/images/I/71KCwNV6MuL._AC_UY545_QL65_.jpg 2.5x, https://m.media-amazon.com/images/I/71KCwNV6MuL._AC_UY654_QL65_.jpg 3x\"/>,\n",
       " <img alt=\"Samsung Galaxy M31 (Ocean Blue, 6GB RAM, 128GB Storage)\" class=\"s-image\" data-image-index=\"5\" data-image-latency=\"s-product-image\" data-image-load=\"\" data-image-source-density=\"1\" src=\"https://m.media-amazon.com/images/I/71-Su4Wr0HL._AC_UY218_.jpg\" srcset=\"https://m.media-amazon.com/images/I/71-Su4Wr0HL._AC_UY218_.jpg 1x, https://m.media-amazon.com/images/I/71-Su4Wr0HL._AC_UY327_QL65_.jpg 1.5x, https://m.media-amazon.com/images/I/71-Su4Wr0HL._AC_UY436_QL65_.jpg 2x, https://m.media-amazon.com/images/I/71-Su4Wr0HL._AC_UY545_QL65_.jpg 2.5x, https://m.media-amazon.com/images/I/71-Su4Wr0HL._AC_UY654_QL65_.jpg 3x\"/>,\n",
       " <img alt=\"Samsung Galaxy M12 (Blue,6GB RAM, 128GB Storage) 6000 mAh with 8nm Processor | True 48 MP Quad Camera | 90Hz Refresh Rate\" class=\"s-image\" data-image-index=\"6\" data-image-latency=\"s-product-image\" data-image-load=\"\" data-image-source-density=\"1\" src=\"https://m.media-amazon.com/images/I/71yYaNztZ0L._AC_UY218_.jpg\" srcset=\"https://m.media-amazon.com/images/I/71yYaNztZ0L._AC_UY218_.jpg 1x, https://m.media-amazon.com/images/I/71yYaNztZ0L._AC_UY327_QL65_.jpg 1.5x, https://m.media-amazon.com/images/I/71yYaNztZ0L._AC_UY436_QL65_.jpg 2x, https://m.media-amazon.com/images/I/71yYaNztZ0L._AC_UY545_QL65_.jpg 2.5x, https://m.media-amazon.com/images/I/71yYaNztZ0L._AC_UY654_QL65_.jpg 3x\"/>,\n",
       " <img alt=\"Samsung Galaxy M11 (Metallic Blue, 4GB RAM, 64GB Storage) with No Cost EMI/Additional Exchange Offers\" class=\"s-image\" data-image-index=\"7\" data-image-latency=\"s-product-image\" data-image-load=\"\" data-image-source-density=\"1\" src=\"https://m.media-amazon.com/images/I/71GQUxuSpnS._AC_UY218_.jpg\" srcset=\"https://m.media-amazon.com/images/I/71GQUxuSpnS._AC_UY218_.jpg 1x, https://m.media-amazon.com/images/I/71GQUxuSpnS._AC_UY327_QL65_.jpg 1.5x, https://m.media-amazon.com/images/I/71GQUxuSpnS._AC_UY436_QL65_.jpg 2x, https://m.media-amazon.com/images/I/71GQUxuSpnS._AC_UY545_QL65_.jpg 2.5x, https://m.media-amazon.com/images/I/71GQUxuSpnS._AC_UY654_QL65_.jpg 3x\"/>,\n",
       " <img alt=\"Oppo A31 (Fantasy White, 6GB RAM, 128GB Storage) with No Cost EMI/Additional Exchange Offers\" class=\"s-image\" data-image-index=\"8\" data-image-latency=\"s-product-image\" data-image-load=\"\" data-image-source-density=\"1\" src=\"https://m.media-amazon.com/images/I/61IhTtJUXJL._AC_UY218_.jpg\" srcset=\"https://m.media-amazon.com/images/I/61IhTtJUXJL._AC_UY218_.jpg 1x, https://m.media-amazon.com/images/I/61IhTtJUXJL._AC_UY327_QL65_.jpg 1.5x, https://m.media-amazon.com/images/I/61IhTtJUXJL._AC_UY436_QL65_.jpg 2x, https://m.media-amazon.com/images/I/61IhTtJUXJL._AC_UY545_QL65_.jpg 2.5x, https://m.media-amazon.com/images/I/61IhTtJUXJL._AC_UY654_QL65_.jpg 3x\"/>,\n",
       " <img alt=\"Redmi Note 10 (Shadow Black, 6GB RAM, 128GB Storage)\" class=\"s-image\" data-image-index=\"9\" data-image-latency=\"s-product-image\" data-image-load=\"\" data-image-source-density=\"1\" src=\"https://m.media-amazon.com/images/I/715t-uJnjMS._AC_UY218_.jpg\" srcset=\"https://m.media-amazon.com/images/I/715t-uJnjMS._AC_UY218_.jpg 1x, https://m.media-amazon.com/images/I/715t-uJnjMS._AC_UY327_QL65_.jpg 1.5x, https://m.media-amazon.com/images/I/715t-uJnjMS._AC_UY436_QL65_.jpg 2x, https://m.media-amazon.com/images/I/715t-uJnjMS._AC_UY545_QL65_.jpg 2.5x, https://m.media-amazon.com/images/I/715t-uJnjMS._AC_UY654_QL65_.jpg 3x\"/>,\n",
       " <img alt=\"Redmi Note 9 (Pebble Grey, 4GB RAM 64GB Storage) - 48MP Quad Camera &amp; Full HD+ Display\" class=\"s-image\" data-image-index=\"10\" data-image-latency=\"s-product-image\" data-image-load=\"\" data-image-source-density=\"1\" src=\"https://m.media-amazon.com/images/I/71X5I1cVfbL._AC_UY218_.jpg\" srcset=\"https://m.media-amazon.com/images/I/71X5I1cVfbL._AC_UY218_.jpg 1x, https://m.media-amazon.com/images/I/71X5I1cVfbL._AC_UY327_QL65_.jpg 1.5x, https://m.media-amazon.com/images/I/71X5I1cVfbL._AC_UY436_QL65_.jpg 2x, https://m.media-amazon.com/images/I/71X5I1cVfbL._AC_UY545_QL65_.jpg 2.5x, https://m.media-amazon.com/images/I/71X5I1cVfbL._AC_UY654_QL65_.jpg 3x\"/>,\n",
       " <img alt=\"Redmi 9 (Carbon Black, 4GB RAM, 64GB Storage) | 5000 mAh| 2.3GHz Mediatek Helio G35 Octa core Processor\" class=\"s-image\" data-image-index=\"11\" data-image-latency=\"s-product-image\" data-image-load=\"\" data-image-source-density=\"1\" src=\"https://m.media-amazon.com/images/I/716nHhG9SWL._AC_UY218_.jpg\" srcset=\"https://m.media-amazon.com/images/I/716nHhG9SWL._AC_UY218_.jpg 1x, https://m.media-amazon.com/images/I/716nHhG9SWL._AC_UY327_QL65_.jpg 1.5x, https://m.media-amazon.com/images/I/716nHhG9SWL._AC_UY436_QL65_.jpg 2x, https://m.media-amazon.com/images/I/716nHhG9SWL._AC_UY545_QL65_.jpg 2.5x, https://m.media-amazon.com/images/I/716nHhG9SWL._AC_UY654_QL65_.jpg 3x\"/>,\n",
       " <img alt=\"Samsung Galaxy M12 (Black,4GB RAM, 64GB Storage) 6000 mAh with 8nm Processor | True 48 MP Quad Camera | 90Hz Refresh Rate\" class=\"s-image\" data-image-index=\"12\" data-image-latency=\"s-product-image\" data-image-load=\"\" data-image-source-density=\"1\" src=\"https://m.media-amazon.com/images/I/714QWDxXgNL._AC_UY218_.jpg\" srcset=\"https://m.media-amazon.com/images/I/714QWDxXgNL._AC_UY218_.jpg 1x, https://m.media-amazon.com/images/I/714QWDxXgNL._AC_UY327_QL65_.jpg 1.5x, https://m.media-amazon.com/images/I/714QWDxXgNL._AC_UY436_QL65_.jpg 2x, https://m.media-amazon.com/images/I/714QWDxXgNL._AC_UY545_QL65_.jpg 2.5x, https://m.media-amazon.com/images/I/714QWDxXgNL._AC_UY654_QL65_.jpg 3x\"/>,\n",
       " <img alt=\"Redmi 9A (Nature Green, 3GB Ram, 32GB Storage) | 2GHz Octa-core Helio G25 Processor\" class=\"s-image\" data-image-index=\"13\" data-image-latency=\"s-product-image\" data-image-load=\"\" data-image-source-density=\"1\" src=\"https://m.media-amazon.com/images/I/71sxlhYhKWL._AC_UY218_.jpg\" srcset=\"https://m.media-amazon.com/images/I/71sxlhYhKWL._AC_UY218_.jpg 1x, https://m.media-amazon.com/images/I/71sxlhYhKWL._AC_UY327_QL65_.jpg 1.5x, https://m.media-amazon.com/images/I/71sxlhYhKWL._AC_UY436_QL65_.jpg 2x, https://m.media-amazon.com/images/I/71sxlhYhKWL._AC_UY545_QL65_.jpg 2.5x, https://m.media-amazon.com/images/I/71sxlhYhKWL._AC_UY654_QL65_.jpg 3x\"/>,\n",
       " <img alt=\"Samsung Galaxy M11 (Violet, 4GB RAM, 64GB Storage) with No Cost EMI/Additional Exchange Offers\" class=\"s-image\" data-image-index=\"14\" data-image-latency=\"s-product-image\" data-image-load=\"\" data-image-source-density=\"1\" src=\"https://m.media-amazon.com/images/I/713asoeJn7S._AC_UY218_.jpg\" srcset=\"https://m.media-amazon.com/images/I/713asoeJn7S._AC_UY218_.jpg 1x, https://m.media-amazon.com/images/I/713asoeJn7S._AC_UY327_QL65_.jpg 1.5x, https://m.media-amazon.com/images/I/713asoeJn7S._AC_UY436_QL65_.jpg 2x, https://m.media-amazon.com/images/I/713asoeJn7S._AC_UY545_QL65_.jpg 2.5x, https://m.media-amazon.com/images/I/713asoeJn7S._AC_UY654_QL65_.jpg 3x\"/>,\n",
       " <img alt=\"Redmi 9A (Sea Blue 3GB RAM 32GB Storage)| 2GHz Octa-core Helio G25 Processor | 5000 mAh Battery\" class=\"s-image\" data-image-index=\"15\" data-image-latency=\"s-product-image\" data-image-load=\"\" data-image-source-density=\"1\" src=\"https://m.media-amazon.com/images/I/71sxlhYhKWL._AC_UY218_.jpg\" srcset=\"https://m.media-amazon.com/images/I/71sxlhYhKWL._AC_UY218_.jpg 1x, https://m.media-amazon.com/images/I/71sxlhYhKWL._AC_UY327_QL65_.jpg 1.5x, https://m.media-amazon.com/images/I/71sxlhYhKWL._AC_UY436_QL65_.jpg 2x, https://m.media-amazon.com/images/I/71sxlhYhKWL._AC_UY545_QL65_.jpg 2.5x, https://m.media-amazon.com/images/I/71sxlhYhKWL._AC_UY654_QL65_.jpg 3x\"/>,\n",
       " <img alt=\"Redmi 9A (Midnight Black 2GB RAM 32GB Storage) | 2GHz Octa-core Helio G25 Processor | 5000 mAh Battery\" class=\"s-image\" data-image-index=\"16\" data-image-latency=\"s-product-image\" data-image-load=\"\" data-image-source-density=\"1\" src=\"https://m.media-amazon.com/images/I/71sxlhYhKWL._AC_UY218_.jpg\" srcset=\"https://m.media-amazon.com/images/I/71sxlhYhKWL._AC_UY218_.jpg 1x, https://m.media-amazon.com/images/I/71sxlhYhKWL._AC_UY327_QL65_.jpg 1.5x, https://m.media-amazon.com/images/I/71sxlhYhKWL._AC_UY436_QL65_.jpg 2x, https://m.media-amazon.com/images/I/71sxlhYhKWL._AC_UY545_QL65_.jpg 2.5x, https://m.media-amazon.com/images/I/71sxlhYhKWL._AC_UY654_QL65_.jpg 3x\"/>]"
      ]
     },
     "execution_count": 15,
     "metadata": {},
     "output_type": "execute_result"
    }
   ],
   "source": [
    "for i in img:\n",
    "    Image.append(i.find('img'))\n",
    "    \n",
    "Image"
   ]
  },
  {
   "cell_type": "code",
   "execution_count": 16,
   "metadata": {},
   "outputs": [
    {
     "name": "stdout",
     "output_type": "stream",
     "text": [
      "16 18 23 16\n"
     ]
    }
   ],
   "source": [
    "print(len(Product),len(Price),len(Rating),len(Image))"
   ]
  },
  {
   "cell_type": "code",
   "execution_count": 18,
   "metadata": {},
   "outputs": [
    {
     "name": "stdout",
     "output_type": "stream",
     "text": [
      "16 16 16 16\n"
     ]
    }
   ],
   "source": [
    "Product=Product[0:16]\n",
    "Price=Price[0:16]\n",
    "Rating=Rating[0:16]\n",
    "img=img[0:16]\n",
    "\n",
    "print(len(Product),len(Price),len(Rating),len(Image))"
   ]
  },
  {
   "cell_type": "code",
   "execution_count": 19,
   "metadata": {},
   "outputs": [],
   "source": [
    "Mobiles=pd.DataFrame({})\n",
    "Mobiles['Product']=Product\n",
    "Mobiles['Price']=Price\n",
    "Mobiles['Image']=Image\n",
    "Mobiles['Rating']=Rating"
   ]
  },
  {
   "cell_type": "code",
   "execution_count": 20,
   "metadata": {},
   "outputs": [
    {
     "data": {
      "text/html": [
       "<div>\n",
       "<style scoped>\n",
       "    .dataframe tbody tr th:only-of-type {\n",
       "        vertical-align: middle;\n",
       "    }\n",
       "\n",
       "    .dataframe tbody tr th {\n",
       "        vertical-align: top;\n",
       "    }\n",
       "\n",
       "    .dataframe thead th {\n",
       "        text-align: right;\n",
       "    }\n",
       "</style>\n",
       "<table border=\"1\" class=\"dataframe\">\n",
       "  <thead>\n",
       "    <tr style=\"text-align: right;\">\n",
       "      <th></th>\n",
       "      <th>Product</th>\n",
       "      <th>Price</th>\n",
       "      <th>Image</th>\n",
       "      <th>Rating</th>\n",
       "    </tr>\n",
       "  </thead>\n",
       "  <tbody>\n",
       "    <tr>\n",
       "      <th>0</th>\n",
       "      <td>Samsung Galaxy M12 (Blue,4GB RAM, 64GB Storage...</td>\n",
       "      <td>10,499</td>\n",
       "      <td>[]</td>\n",
       "      <td>4.1 out of 5 stars</td>\n",
       "    </tr>\n",
       "    <tr>\n",
       "      <th>1</th>\n",
       "      <td>Redmi 9A (Nature Green, 2GB RAM, 32GB Storage)...</td>\n",
       "      <td>6,799</td>\n",
       "      <td>[]</td>\n",
       "      <td>4.2 out of 5 stars</td>\n",
       "    </tr>\n",
       "    <tr>\n",
       "      <th>2</th>\n",
       "      <td>Redmi 9 (Sky Blue, 4GB RAM, 64GB Storage)| 500...</td>\n",
       "      <td>8,799</td>\n",
       "      <td>[]</td>\n",
       "      <td>4.2 out of 5 stars</td>\n",
       "    </tr>\n",
       "    <tr>\n",
       "      <th>3</th>\n",
       "      <td>Oppo A31 (Mystery Black, 6GB RAM, 128GB Storag...</td>\n",
       "      <td>14,999</td>\n",
       "      <td>[]</td>\n",
       "      <td>4.3 out of 5 stars</td>\n",
       "    </tr>\n",
       "    <tr>\n",
       "      <th>4</th>\n",
       "      <td>Samsung Galaxy M31 (Ocean Blue, 6GB RAM, 128GB...</td>\n",
       "      <td>16,999</td>\n",
       "      <td>[]</td>\n",
       "      <td>4.3 out of 5 stars</td>\n",
       "    </tr>\n",
       "    <tr>\n",
       "      <th>5</th>\n",
       "      <td>Samsung Galaxy M12 (Blue,6GB RAM, 128GB Storag...</td>\n",
       "      <td>11,490</td>\n",
       "      <td>[]</td>\n",
       "      <td>4.3 out of 5 stars</td>\n",
       "    </tr>\n",
       "    <tr>\n",
       "      <th>6</th>\n",
       "      <td>Samsung Galaxy M11 (Metallic Blue, 4GB RAM, 64...</td>\n",
       "      <td>14,999</td>\n",
       "      <td>[]</td>\n",
       "      <td>4.2 out of 5 stars</td>\n",
       "    </tr>\n",
       "    <tr>\n",
       "      <th>7</th>\n",
       "      <td>Oppo A31 (Fantasy White, 6GB RAM, 128GB Storag...</td>\n",
       "      <td>12,999</td>\n",
       "      <td>[]</td>\n",
       "      <td>4.3 out of 5 stars</td>\n",
       "    </tr>\n",
       "    <tr>\n",
       "      <th>8</th>\n",
       "      <td>Redmi Note 10 (Shadow Black, 6GB RAM, 128GB St...</td>\n",
       "      <td>8,999</td>\n",
       "      <td>[]</td>\n",
       "      <td>4.1 out of 5 stars</td>\n",
       "    </tr>\n",
       "    <tr>\n",
       "      <th>9</th>\n",
       "      <td>Redmi Note 9 (Pebble Grey, 4GB RAM 64GB Storag...</td>\n",
       "      <td>11,490</td>\n",
       "      <td>[]</td>\n",
       "      <td>4.2 out of 5 stars</td>\n",
       "    </tr>\n",
       "    <tr>\n",
       "      <th>10</th>\n",
       "      <td>Redmi 9 (Carbon Black, 4GB RAM, 64GB Storage) ...</td>\n",
       "      <td>14,499</td>\n",
       "      <td>[]</td>\n",
       "      <td>4.2 out of 5 stars</td>\n",
       "    </tr>\n",
       "    <tr>\n",
       "      <th>11</th>\n",
       "      <td>Samsung Galaxy M12 (Black,4GB RAM, 64GB Storag...</td>\n",
       "      <td>10,999</td>\n",
       "      <td>[]</td>\n",
       "      <td>4.1 out of 5 stars</td>\n",
       "    </tr>\n",
       "    <tr>\n",
       "      <th>12</th>\n",
       "      <td>Redmi 9A (Nature Green, 3GB Ram, 32GB Storage)...</td>\n",
       "      <td>8,799</td>\n",
       "      <td>[]</td>\n",
       "      <td>4.3 out of 5 stars</td>\n",
       "    </tr>\n",
       "    <tr>\n",
       "      <th>13</th>\n",
       "      <td>Samsung Galaxy M11 (Violet, 4GB RAM, 64GB Stor...</td>\n",
       "      <td>10,499</td>\n",
       "      <td>[]</td>\n",
       "      <td>4.2 out of 5 stars</td>\n",
       "    </tr>\n",
       "    <tr>\n",
       "      <th>14</th>\n",
       "      <td>Redmi 9A (Sea Blue 3GB RAM 32GB Storage)| 2GHz...</td>\n",
       "      <td>7,500</td>\n",
       "      <td>[]</td>\n",
       "      <td>4.1 out of 5 stars</td>\n",
       "    </tr>\n",
       "    <tr>\n",
       "      <th>15</th>\n",
       "      <td>Redmi 9A (Midnight Black 2GB RAM 32GB Storage)...</td>\n",
       "      <td>8,999</td>\n",
       "      <td>[]</td>\n",
       "      <td>4.2 out of 5 stars</td>\n",
       "    </tr>\n",
       "  </tbody>\n",
       "</table>\n",
       "</div>"
      ],
      "text/plain": [
       "                                              Product   Price Image  \\\n",
       "0   Samsung Galaxy M12 (Blue,4GB RAM, 64GB Storage...  10,499    []   \n",
       "1   Redmi 9A (Nature Green, 2GB RAM, 32GB Storage)...   6,799    []   \n",
       "2   Redmi 9 (Sky Blue, 4GB RAM, 64GB Storage)| 500...   8,799    []   \n",
       "3   Oppo A31 (Mystery Black, 6GB RAM, 128GB Storag...  14,999    []   \n",
       "4   Samsung Galaxy M31 (Ocean Blue, 6GB RAM, 128GB...  16,999    []   \n",
       "5   Samsung Galaxy M12 (Blue,6GB RAM, 128GB Storag...  11,490    []   \n",
       "6   Samsung Galaxy M11 (Metallic Blue, 4GB RAM, 64...  14,999    []   \n",
       "7   Oppo A31 (Fantasy White, 6GB RAM, 128GB Storag...  12,999    []   \n",
       "8   Redmi Note 10 (Shadow Black, 6GB RAM, 128GB St...   8,999    []   \n",
       "9   Redmi Note 9 (Pebble Grey, 4GB RAM 64GB Storag...  11,490    []   \n",
       "10  Redmi 9 (Carbon Black, 4GB RAM, 64GB Storage) ...  14,499    []   \n",
       "11  Samsung Galaxy M12 (Black,4GB RAM, 64GB Storag...  10,999    []   \n",
       "12  Redmi 9A (Nature Green, 3GB Ram, 32GB Storage)...   8,799    []   \n",
       "13  Samsung Galaxy M11 (Violet, 4GB RAM, 64GB Stor...  10,499    []   \n",
       "14  Redmi 9A (Sea Blue 3GB RAM 32GB Storage)| 2GHz...   7,500    []   \n",
       "15  Redmi 9A (Midnight Black 2GB RAM 32GB Storage)...   8,999    []   \n",
       "\n",
       "                Rating  \n",
       "0   4.1 out of 5 stars  \n",
       "1   4.2 out of 5 stars  \n",
       "2   4.2 out of 5 stars  \n",
       "3   4.3 out of 5 stars  \n",
       "4   4.3 out of 5 stars  \n",
       "5   4.3 out of 5 stars  \n",
       "6   4.2 out of 5 stars  \n",
       "7   4.3 out of 5 stars  \n",
       "8   4.1 out of 5 stars  \n",
       "9   4.2 out of 5 stars  \n",
       "10  4.2 out of 5 stars  \n",
       "11  4.1 out of 5 stars  \n",
       "12  4.3 out of 5 stars  \n",
       "13  4.2 out of 5 stars  \n",
       "14  4.1 out of 5 stars  \n",
       "15  4.2 out of 5 stars  "
      ]
     },
     "execution_count": 20,
     "metadata": {},
     "output_type": "execute_result"
    }
   ],
   "source": [
    "Mobiles"
   ]
  },
  {
   "cell_type": "code",
   "execution_count": null,
   "metadata": {},
   "outputs": [],
   "source": []
  }
 ],
 "metadata": {
  "kernelspec": {
   "display_name": "Python 3",
   "language": "python",
   "name": "python3"
  },
  "language_info": {
   "codemirror_mode": {
    "name": "ipython",
    "version": 3
   },
   "file_extension": ".py",
   "mimetype": "text/x-python",
   "name": "python",
   "nbconvert_exporter": "python",
   "pygments_lexer": "ipython3",
   "version": "3.8.5"
  }
 },
 "nbformat": 4,
 "nbformat_minor": 4
}
