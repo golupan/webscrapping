{
 "cells": [
  {
   "cell_type": "markdown",
   "metadata": {},
   "source": [
    "# Write a python program to scrap book name, author name, genre and book review of any 5 books from ‘www.bookpage.com’\n"
   ]
  },
  {
   "cell_type": "code",
   "execution_count": null,
   "metadata": {},
   "outputs": [],
   "source": []
  },
  {
   "cell_type": "markdown",
   "metadata": {},
   "source": [
    "# importing libraries"
   ]
  },
  {
   "cell_type": "code",
   "execution_count": 1,
   "metadata": {},
   "outputs": [],
   "source": [
    "from bs4 import BeautifulSoup\n",
    "import requests\n",
    "import pandas as pd"
   ]
  },
  {
   "cell_type": "code",
   "execution_count": 26,
   "metadata": {},
   "outputs": [],
   "source": [
    "page = requests.get(\"http://www.bookpage.com/reviews\")"
   ]
  },
  {
   "cell_type": "code",
   "execution_count": 27,
   "metadata": {},
   "outputs": [
    {
     "data": {
      "text/plain": [
       "b'<!DOCTYPE html>\\n<html lang=\\'en\\' xmlns:fb=\\'http://www.facebook.com/2008/fbml\\' xmlns:og=\\'http://opengraphprotocol.org/schema/\\'>\\n<head>\\n<title>Book Reviews | BookPage</title>\\n<meta name=\"description\" content=\"Book recommendations of the best new books by genre and more.\">\\n<meta name=\"keywords\" content=\"book reviews, books and literature, writing and writers\">\\n<link rel=\"canonical\" href=\"https://bookpage.com/reviews\">\\n<meta property=\"og:site_name\" content=\"BookPage.com\">\\n<meta property=\"og:title\" content=\"Book Reviews\">\\n<meta property=\"og:description\" content=\"Book recommendations of the best new books by genre and more.\">\\n<meta property=\"og:type\" content=\"website\">\\n<meta property=\"og:url\" content=\"https://bookpage.com/reviews\">\\n<meta property=\"og:image\" content=\"//www.bookpage.com/default_image.jpg\">\\n<meta name=\"twitter:card\" content=\"summary\">\\n<meta name=\"twitter:site\" content=\"@bookpage\">\\n<meta name=\"twitter:creator\" content=\"@bookpage\">\\n<meta name=\"robots\" content=\"index,follow\">\\n<meta name=\"application-name\" content=\"BookPage\">\\n<meta name=\"msapplication-tooltip\" content=\"BookPage\">\\n<meta name=\"msapplication-starturl\" content=\"https://bookpage.com/\">\\n<meta name=\"msapplication-task\" content=\"name=BookPage;action-uri=https://bookpage.com;icon-uri=https://bookpage.com/favicon.ico\">\\n<meta name=\"msapplication-task\" content=\"name=BookPage on Twitter;action-uri=http://twitter.com/bookpage;icon-uri=http://twitter.com/favicon.ico\">\\n<meta name=\"msapplication-task\" content=\"name=BookPage on Facebook;action-uri=https://www.facebook.com/pages/BookPage/116675947874;icon-uri=https://s-static.ak.facebook.com/rsrc.php/yi/r/q9U99v3_saj.ico\">\\n<meta name=\"msapplication-task\" content=\"name=BookPage on Pinterest;action-uri=http://www.pinterest.com/bookpage/;icon-uri=http://www.pinterest.com/favicon.ico\">\\n<meta name=\"msapplication-task\" content=\"name=BookPage on YouTube;action-uri=http://www.youtube.com/BookPagedotcom;icon-uri=http://www.youtube.com/favicon.ico\">\\n<meta charset=\\'utf-8\\'>\\n<meta content=\\'IE=Edge,chrome=1\\' http-equiv=\\'X-UA-Compatible\\'>\\n<meta content=\\'width=device-width, initial-scale=1.0\\' name=\\'viewport\\'>\\n<meta name=\"csrf-param\" content=\"authenticity_token\" />\\n<meta name=\"csrf-token\" content=\"h99xyDQLXxsU740X27fe4y+T8kGvUF2LDdhnWbkHL7eyLjDEpN980hpJJ7UosaPwz6GVZpm7orO5He7vpO2qdQ==\" />\\n<!-- Le HTML5 shim, for IE6-8 support of HTML elements -->\\n<!--[if lt IE 9]>\\n<script src=\"//html5shim.googlecode.com/svn/trunk/html5.js\"></script>\\n<![endif]-->\\n<link rel=\"stylesheet\" media=\"all\" href=\"/assets/application-d65a90e052a2d61ba87795acc24f13a44c3e10568595711f4d3520815752c897.css\" />\\n<link href=\\'/apple-touch-icon-180x180.png\\' rel=\\'apple-touch-icon\\' sizes=\\'180x180\\'>\\n<link href=\\'/apple-touch-icon-152x152.png\\' rel=\\'apple-touch-icon\\' sizes=\\'152x152\\'>\\n<link href=\\'/apple-touch-icon-144x144.png\\' rel=\\'apple-touch-icon\\' sizes=\\'144x144\\'>\\n<link href=\\'/apple-touch-icon-120x120.png\\' rel=\\'apple-touch-icon\\' sizes=\\'120x120\\'>\\n<link href=\\'/apple-touch-icon-114x114.png\\' rel=\\'apple-touch-icon\\' sizes=\\'114x114\\'>\\n<link href=\\'/apple-touch-icon-76x76.png\\' rel=\\'apple-touch-icon\\' sizes=\\'76x76\\'>\\n<link href=\\'/apple-touch-icon-72x72.png\\' rel=\\'apple-touch-icon\\' sizes=\\'72x72\\'>\\n<link href=\\'/apple-touch-icon.png\\' rel=\\'apple-touch-icon\\'>\\n<link href=\\'/favicon.ico\\' rel=\\'shortcut icon\\'>\\n<meta content=\\'BookPage\\' name=\\'apple-mobile-web-app-title\\'>\\n<link rel=\"alternate\" type=\"application/atom+xml\" title=\"ATOM\" href=\"/feed\" />\\n<link rel=\"alternate\" type=\"application/rss+xml\" title=\"RSS\" href=\"/feed.rss\" />\\n<link href=\\'//fonts.googleapis.com/css?family=Open+Sans:400,600,700,800\\' rel=\\'stylesheet\\' type=\\'text/css\\'>\\n<link href=\\'//fonts.googleapis.com/css?family=Open+Sans+Condensed:700\\' rel=\\'stylesheet\\' type=\\'text/css\\'>\\n<script async=\\'async\\' src=\\'https://www.googletagservices.com/tag/js/gpt.js\\'></script>\\n<script>\\n var googletag = googletag || {};\\n googletag.cmd = googletag.cmd || [];\\n</script>\\n\\n<script>\\n googletag.cmd.push(function() {\\n   googletag.defineSlot(\\'/4655871/ATL\\', [970, 250], \\'div-gpt-ad-1515619791087-0\\').addService(googletag.pubads());\\n   googletag.pubads().enableSingleRequest();\\n   googletag.enableServices();\\n });\\n</script>\\n\\n<script src=\\'//d3c3cq33003psk.cloudfront.net/opentag-123939-1670854.js\\' async defer></script><script type=\"text/javascript\">\\n var googletag = googletag || {};\\ngoogletag.cmd = googletag.cmd || [];\\n(function() {\\nvar gads = document.createElement(\"script\");\\ngads.async = true;\\ngads.type = \"text/javascript\";\\nvar useSSL = \"https:\" == document.location.protocol;\\ngads.src = (useSSL ? \"https:\" : \"http:\") + \"//www.googletagservices.com/tag/js/gpt.js\";\\nvar node =document.getElementsByTagName(\"script\")[0];\\nnode.parentNode.insertBefore(gads, node);\\n})();\\n</script>\\n\\n<!-- Global site tag (gtag.js) - Google Analytics -->\\n<script async src=\"https://www.googletagmanager.com/gtag/js?id=GTM-P85NP22\"></script>\\n<script>\\n  window.dataLayer = window.dataLayer || [];\\n  function gtag(){dataLayer.push(arguments);}\\n  gtag(\\'js\\', new Date());\\n\\n  gtag(\\'config\\', \\'GTM-P85NP22\\');\\n</script>\\n\\n<script>\\n  (function(i,s,o,g,r,a,m){i[\\'GoogleAnalyticsObject\\']=r;i[r]=i[r]||function(){\\n  (i[r].q=i[r].q||[]).push(arguments)},i[r].l=1*new Date();a=s.createElement(o),\\n  m=s.getElementsByTagName(o)[0];a.async=1;a.src=g;m.parentNode.insertBefore(a,m)\\n  })(window,document,\\'script\\',\\'//www.google-analytics.com/analytics.js\\',\\'ga\\');\\n\\n  ga(\\'create\\', \\'UA-9261499-1\\', \\'auto\\');\\n  ga(\\'send\\', \\'pageview\\');\\n</script>\\n<!-- Google Tag Manager -->\\n<script>(function(w,d,s,l,i){w[l]=w[l]||[];w[l].push({\\'gtm.start\\':\\nnew Date().getTime(),event:\\'gtm.js\\'});var f=d.getElementsByTagName(s)[0],\\nj=d.createElement(s),dl=l!=\\'dataLayer\\'?\\'&l=\\'+l:\\'\\';j.async=true;j.src=\\n\\'https://www.googletagmanager.com/gtm.js?id=\\'+i+dl;f.parentNode.insertBefore(j,f);\\n})(window,document,\\'script\\',\\'dataLayer\\',\\'GTM-P85NP22\\');</script>\\n<!-- End Google Tag Manager -->\\n\\n<!-- Facebook Pixel Code -->\\n<script>\\n!function(f,b,e,v,n,t,s){if(f.fbq)return;n=f.fbq=function(){n.callMethod?\\nn.callMethod.apply(n,arguments):n.queue.push(arguments)};if(!f._fbq)f._fbq=n;\\nn.push=n;n.loaded=!0;n.version=\\'2.0\\';n.queue=[];t=b.createElement(e);t.async=!0;\\nt.src=v;s=b.getElementsByTagName(e)[0];s.parentNode.insertBefore(t,s)}(window,\\ndocument,\\'script\\',\\'//connect.facebook.net/en_US/fbevents.js\\');\\n\\nfbq(\\'init\\', \\'1746518832242335\\');\\nfbq(\\'track\\', \"PageView\");</script>\\n<noscript><img height=\"1\" width=\"1\" style=\"display:none\"\\nsrc=\"https://www.facebook.com/tr?id=1746518832242335&ev=PageView&noscript=1\"\\n/></noscript>\\n<!-- End Facebook Pixel Code -->\\n\\n<script>\\n    (function(h,o,t,j,a,r){\\n        h.hj=h.hj||function(){(h.hj.q=h.hj.q||[]).push(arguments)};\\n        h._hjSettings={hjid:1209228,hjsv:6};\\n        a=o.getElementsByTagName(\\'head\\')[0];\\n        r=o.createElement(\\'script\\');r.async=1;\\n        r.src=t+h._hjSettings.hjid+j+h._hjSettings.hjsv;\\n        a.appendChild(r);\\n    })(window,document,\\'https://static.hotjar.com/c/hotjar-\\',\\'.js?sv=\\');\\n</script>\\n\\n<!-- Facebook Pixel Code -->\\n<script>(function(){var s = document.createElement(\\'script\\'),e = ! document.body ? document.querySelector(\\'head\\') : document.body;s.src = \\'https://acsbapp.com/apps/app/assets/js/acsb.js\\';s.async = s.defer = true;s.onload = function(){acsbJS.init({statementLink : \\'\\',feedbackLink : \\'\\',footerHtml : \\'\\',hideMobile : false,hideTrigger : false,language : \\'en\\',position : \\'right\\',leadColor : \\'#146FF8\\',triggerColor : \\'#146FF8\\',triggerRadius : \\'50%\\',triggerPositionX : \\'right\\',triggerPositionY : \\'bottom\\',triggerIcon : \\'default\\',triggerSize : \\'medium\\',triggerOffsetX : 20,triggerOffsetY : 20,mobile : {triggerSize : \\'small\\',triggerPositionX : \\'right\\',triggerPositionY : \\'center\\',triggerOffsetX : 0,triggerOffsetY : 0,triggerRadius : \\'50%\\'}});};e.appendChild(s);}());</script>\\n<!-- End Facebook Pixel Code -->\\n\\n</head>\\n\\n<body>\\n<!-- Google Tag Manager -->\\n<noscript><iframe src=\"//www.googletagmanager.com/ns.html?id=GTM-T5GJ4V\"\\nheight=\"0\" width=\"0\" style=\"display:none;visibility:hidden\"></iframe></noscript>\\n<script>(function(w,d,s,l,i){w[l]=w[l]||[];w[l].push({\\'gtm.start\\':\\nnew Date().getTime(),event:\\'gtm.js\\'});var f=d.getElementsByTagName(s)[0],\\nj=d.createElement(s),dl=l!=\\'dataLayer\\'?\\'&l=\\'+l:\\'\\';j.async=true;j.src=\\n\\'//www.googletagmanager.com/gtm.js?id=\\'+i+dl;f.parentNode.insertBefore(j,f);\\n})(window,document,\\'script\\',\\'dataLayer\\',\\'GTM-T5GJ4V\\');</script>\\n<!-- End Google Tag Manager -->\\n\\n<!-- Google Tag Manager (noscript) -->\\n<noscript><iframe src=\"https://www.googletagmanager.com/ns.html?id=GTM-P85NP22\"\\nheight=\"0\" width=\"0\" style=\"display:none;visibility:hidden\"></iframe></noscript>\\n<!-- End Google Tag Manager (noscript) -->\\n\\n<!-- google ads -->\\n<script data-ad-client=\"ca-pub-1933750090033622\" async src=\"https://pagead2.googlesyndication.com/pagead/js/adsbygoogle.js\"></script>\\n\\n<div class=\\'container-fluid\\'>\\n<div class=\\'header\\'>\\n<div class=\\'navbar navbar-default navbar-fixed-top bp-nav\\'>\\n<div class=\\'row-fluid subscribe\\'>\\n<a class=\\'button\\' href=\\'https://signup.e2ma.net/signup/1896962/28888/\\' onclick=\"window.open(\\'https://signup.e2ma.net/signup/1896962/28888/\\', \\'signup\\', \\'menubar=no, location=no, toolbar=no, scrollbars=yes, height=800, width=500\\'); return false;\">Sign up for our newsletters!</a>\\n</div>\\n<div class=\\'navbar-inner\\'>\\n<a class=\\'btn btn-navbar\\' data-target=\\'.nav-collapse\\' data-toggle=\\'collapse\\'>\\n<i class=\\'zmdi zmdi-menu\\'></i>\\n</a>\\n<a href=\\'/\\'>\\n<img class=\"brand\" src=\"/assets/logos/logo_large-d48d8b33b2656c699a6815c500d328a7d0ee40edfde8536e957bfb739cfbf611.png\" alt=\"Logo large\" />\\n</a>\\n<div class=\\'nav-collapse\\'>\\n<ul class=\\'nav bp-navtext\\'>\\n<li class=\\'\\'><a href=\"/print-edition\">Print Edition</a></li>\\n<li class=\\'current dropdown\\'>\\n<a aria-expanded=\\'false\\' aria-haspopup=\\'true\\' class=\\'dropdown-toggle\\' data-toggle=\\'dropdown\\' href=\\'/reviews\\' role=\\'button\\'>Book Reviews</a>\\n<ul class=\\'dropdown-menu\\'>\\n<li><a href=\"/reviews\">All Reviews</a></li>\\n<li><a href=\"/reviews?book_genre=fiction&amp;page=1\">Fiction</a></li>\\n<li><a href=\"/reviews?book_genre=nonfiction&amp;page=1\">Nonfiction</a></li>\\n<li><a href=\"/reviews?book_genre=children_s&amp;page=1\">Children&#39;s</a></li>\\n<li><a href=\"/reviews?book_genre=ya&amp;page=1\">YA</a></li>\\n<li><a href=\"/reviews?book_genre=mystery_suspense&amp;page=1\">Mystery</a></li>\\n<li><a href=\"/reviews?book_genre=romance&amp;page=1\">Romance</a></li>\\n</ul>\\n</li>\\n<li class=\\'\\'><a href=\"/interviews\">Interviews</a></li>\\n<li class=\\'\\'><a href=\"/features\">Features</a></li>\\n<li class=\\'nav-last dropdown\\'>\\n<a aria-expanded=\\'false\\' aria-haspopup=\\'true\\' class=\\'dropdown-toggle\\' data-toggle=\\'dropdown\\' href=\\'/reviews\\' role=\\'button\\'>Subscribe</a>\\n<ul class=\\'dropdown-menu\\'>\\n<li><a target=\"_blank\" href=\"http://www.subscriptions.bookpage.com/library\">Library</a></li>\\n<li><a target=\"_blank\" href=\"http://www.subscriptions.bookpage.com/bookstore\">Bookstore</a></li>\\n<li><a target=\"_blank\" href=\"http://MIurl.cc/Z6eD1pmI\">Individual</a></li>\\n</ul>\\n</li>\\n<div class=\\'search-box\\'>\\n<form class=\"search-form\" action=\"/search/\" accept-charset=\"UTF-8\" method=\"get\"><input name=\"utf8\" type=\"hidden\" value=\"&#x2713;\" />\\n<div class=\\'input-prepend\\'>\\n<span class=\\'add-on add-on-custom\\'>\\n<i class=\\'fa fa-search\\'></i>\\n</span>\\n<input type=\"text\" name=\"query\" id=\"query\" class=\"input-medium query-input\" placeholder=\"Search BookPage\" />\\n</div>\\n</form>\\n\\n</div>\\n\\n</ul>\\n</div>\\n</div>\\n</div>\\n\\n</div>\\n<div class=\\'page-content\\'>\\n<!-- Main Content -->\\n<div class=\\'row-fluid articles-index\\'>\\n<div class=\\'row-fluid\\'>\\n<div class=\\'search-bar\\'>\\n<div class=\\'breadcrumbs\\'>\\n<p>\\n<a href=\"/\">Home</a>\\n&nbsp;<i class=\\'zmdi zmdi-chevron-right\\'></i>\\n<h1 class=\\'sans\\'>\\nBook reviews\\n</h1>\\n</p>\\n</div>\\n<br class=\\'clear\\'>\\n</div>\\n\\n</div>\\n<div class=\\'row-fluid\\'>\\n<!-- Articles Column -->\\n<div class=\\'span9\\'>\\n<div class=\\'bp-well\\'>\\n<div class=\\'row-fluid article-row\\'>\\n<div class=\\'bp-block article-info\\'>\\n<div class=\\'article-list-left\\'>\\n<a href=\"/reviews/26281-mieko-kawakami-heaven-fiction\"><img src=\"https://t1.bookpage.com/books/images/93a7fc7338468e33c8a264d6d2b4ba20/medium.jpg\" alt=\"Medium\" /></a>\\n</div>\\n<div class=\\'flex-article-content\\'>\\n<h4 class=\\'italic\\'>\\n<a href=\"/reviews/26281-mieko-kawakami-heaven-fiction\">Heaven</a>\\n</h4>\\n<p class=\\'sans bold\\'>\\nMieko Kawakami, Sam Bett, David Boyd\\n</p>\\n<p class=\\'genre-links hidden-phone\\'>\\n<a href=\"/search?book_genre=fiction\">Fiction</a>\\n / \\n<a href=\"/search?book_genre=coming_of_age\">Coming of Age</a>\\n</p>\\n\\n<p class=\\'excerpt\\'>\\nMieko Kawakami\\xe2\\x80\\x99s novel is not a cruel story, but rather one that understands hurt and pain for what it is: universal, unjust and material for new life.\\n</p>\\n<div class=\\'read-full\\'>\\n<a href=\"/reviews/26281-mieko-kawakami-heaven-fiction\">Read the Review <i class=\\'zmdi zmdi-chevron-right\\'></i></a>\\n</div>\\n</div>\\n<br class=\\'clear\\'>\\n</div>\\n\\n</div>\\n<div class=\\'row-fluid article-row\\'>\\n<div class=\\'bp-block article-info\\'>\\n<div class=\\'article-list-left\\'>\\n<a href=\"/reviews/26287-steven-rowley-guncle-fiction\"><img src=\"https://t1.bookpage.com/books/images/ef5934998e82409e225039050c7c456a/medium.jpg\" alt=\"Medium\" /></a>\\n</div>\\n<div class=\\'flex-article-content\\'>\\n<h4 class=\\'italic\\'>\\n<a href=\"/reviews/26287-steven-rowley-guncle-fiction\">The Guncle</a>\\n</h4>\\n<p class=\\'sans bold\\'>\\nSteven Rowley\\n</p>\\n<p class=\\'genre-links hidden-phone\\'>\\n<a href=\"/search?book_genre=fiction\">Fiction</a>\\n / \\n<a href=\"/search?book_genre=family_drama\">Family Drama</a>\\n</p>\\n\\n<p class=\\'excerpt\\'>\\nNever going too dark, <strong>The Guncle</strong> is a sweet family story of an uncle trying to bring color and light into his niece\\xe2\\x80\\x99s and nephew\\xe2\\x80\\x99s lives.\\n</p>\\n<div class=\\'read-full\\'>\\n<a href=\"/reviews/26287-steven-rowley-guncle-fiction\">Read the Review <i class=\\'zmdi zmdi-chevron-right\\'></i></a>\\n</div>\\n</div>\\n<br class=\\'clear\\'>\\n</div>\\n\\n</div>\\n<div class=\\'row-fluid article-row\\'>\\n<div class=\\'bp-block article-info\\'>\\n<div class=\\'article-list-left\\'>\\n<a href=\"/reviews/26326-regina-m-hansen-coming-storm-ya\"><img src=\"https://t1.bookpage.com/books/images/a23224a678e3ea7ff1229a08f415e6a1/medium.jpg\" alt=\"Medium\" /></a>\\n</div>\\n<div class=\\'flex-article-content\\'>\\n<h4 class=\\'italic\\'>\\n<a href=\"/reviews/26326-regina-m-hansen-coming-storm-ya\">The Coming Storm</a>\\n</h4>\\n<p class=\\'sans bold\\'>\\nRegina M. Hansen\\n</p>\\n<p class=\\'genre-links hidden-phone\\'>\\n<a href=\"/search?book_genre=ya\">YA</a>\\n / \\n<a href=\"/search?book_genre=ya_fiction\">YA Fiction</a>\\n</p>\\n\\n<p class=\\'excerpt\\'>\\n<p>First-time author Regina M. Hansen stakes her own Prince Edward Island literary claim via another ginger-haired girl, Beatrice MacNeill, known as &ldquo;Beet.&rdquo; Like Anne, she&rsquo;s determined and sharp-witted. Unlike Anne, she discovers one fateful night in 1949 that she can see...</p>\\n</p>\\n<div class=\\'read-full\\'>\\n<a href=\"/reviews/26326-regina-m-hansen-coming-storm-ya\">Read the Review <i class=\\'zmdi zmdi-chevron-right\\'></i></a>\\n</div>\\n</div>\\n<br class=\\'clear\\'>\\n</div>\\n\\n</div>\\n<div class=\\'row-fluid article-row\\'>\\n<div class=\\'bp-block article-info\\'>\\n<div class=\\'article-list-left\\'>\\n<a href=\"/reviews/26325-nicola-yoon-instructions-dancing-ya\"><img src=\"https://t1.bookpage.com/books/images/22c951d8dbf84243629d7759a7785d25/medium.jpg\" alt=\"Medium\" /></a>\\n</div>\\n<div class=\\'flex-article-content\\'>\\n<h4 class=\\'italic\\'>\\n<a href=\"/reviews/26325-nicola-yoon-instructions-dancing-ya\"> <span style=\\'font-style:normal;\\'>&#x2605 </span>Instructions for Dancing</a>\\n</h4>\\n<p class=\\'sans bold\\'>\\nNicola Yoon\\n</p>\\n<p class=\\'genre-links hidden-phone\\'>\\n<a href=\"/search?book_genre=ya\">YA</a>\\n / \\n<a href=\"/search?book_genre=ya_fiction\">YA Fiction</a>\\n</p>\\n\\n<p class=\\'excerpt\\'>\\n<p>When Evie tries to get rid of her romance novel collection, a strange encounter leaves her with two things: the address for the La Brea Dance Studio and unnerving visions of exactly how other couples&rsquo; love stories will end.</p>\\n</p>\\n<div class=\\'read-full\\'>\\n<a href=\"/reviews/26325-nicola-yoon-instructions-dancing-ya\">Read the Review <i class=\\'zmdi zmdi-chevron-right\\'></i></a>\\n</div>\\n</div>\\n<br class=\\'clear\\'>\\n</div>\\n\\n</div>\\n<div class=\\'row-fluid article-row\\'>\\n<div class=\\'bp-block article-info\\'>\\n<div class=\\'article-list-left\\'>\\n<a href=\"/reviews/26310-jonathan-balcombe-super-fly-nonfiction\"><img src=\"https://t1.bookpage.com/books/images/075d7f6f383387a245692b07582c167e/medium.jpg\" alt=\"Medium\" /></a>\\n</div>\\n<div class=\\'flex-article-content\\'>\\n<h4 class=\\'italic\\'>\\n<a href=\"/reviews/26310-jonathan-balcombe-super-fly-nonfiction\">Super Fly</a>\\n</h4>\\n<p class=\\'sans bold\\'>\\nJonathan Balcombe\\n</p>\\n<p class=\\'genre-links hidden-phone\\'>\\n<a href=\"/search?book_genre=nonfiction\">Nonfiction</a>\\n / \\n<a href=\"/search?book_genre=science_nature\">Science &amp; Nature</a>\\n / \\n<a href=\"/search?book_genre=animals\">Animals</a>\\n</p>\\n\\n<p class=\\'excerpt\\'>\\nFrom wound-healing maggots to flies that helped overturn wrongful convictions, there&rsquo;s much to learn about the heroism of these tiny creatures.\\n</p>\\n<div class=\\'read-full\\'>\\n<a href=\"/reviews/26310-jonathan-balcombe-super-fly-nonfiction\">Read the Review <i class=\\'zmdi zmdi-chevron-right\\'></i></a>\\n</div>\\n</div>\\n<br class=\\'clear\\'>\\n</div>\\n\\n</div>\\n<div class=\\'row-fluid article-row\\'>\\n<div class=\\'bp-block article-info\\'>\\n<div class=\\'article-list-left\\'>\\n<a href=\"/reviews/26355-nicole-jarvis-lights-prague-science-fiction-fantasy\"><img src=\"https://t1.bookpage.com/books/images/1d3accf8468750ce20cb427d69ed1105/medium.jpg\" alt=\"Medium\" /></a>\\n</div>\\n<div class=\\'flex-article-content\\'>\\n<h4 class=\\'italic\\'>\\n<a href=\"/reviews/26355-nicole-jarvis-lights-prague-science-fiction-fantasy\">The Lights of Prague</a>\\n</h4>\\n<p class=\\'sans bold\\'>\\nNicole Jarvis\\n</p>\\n<p class=\\'genre-links hidden-phone\\'>\\n<a href=\"/search?book_genre=science_fiction_fantasy\">Science Fiction &amp; Fantasy</a>\\n / \\n<a href=\"/search?book_genre=fantasy\">Fantasy</a>\\n / \\n<a href=\"/search?book_genre=historical_fantasy\">Historical Fantasy</a>\\n</p>\\n\\n<p class=\\'excerpt\\'>\\n<p>Nicole Jarvis&rsquo; debut fantasy, <strong>The Lights of Prague</strong>, welcomes readers into an arresting and vivid historical fantasy world.</p>\\n</p>\\n<div class=\\'read-full\\'>\\n<a href=\"/reviews/26355-nicole-jarvis-lights-prague-science-fiction-fantasy\">Read the Review <i class=\\'zmdi zmdi-chevron-right\\'></i></a>\\n</div>\\n</div>\\n<br class=\\'clear\\'>\\n</div>\\n\\n</div>\\n<div class=\\'row-fluid article-row\\'>\\n<div class=\\'bp-block article-info\\'>\\n<div class=\\'article-list-left\\'>\\n<a href=\"/reviews/26296-nikita-lalwani-you-people-fiction\"><img src=\"https://t1.bookpage.com/books/images/021c7409eebee8b44ee0c2a1ce28a697/medium.jpg\" alt=\"Medium\" /></a>\\n</div>\\n<div class=\\'flex-article-content\\'>\\n<h4 class=\\'italic\\'>\\n<a href=\"/reviews/26296-nikita-lalwani-you-people-fiction\">You People</a>\\n</h4>\\n<p class=\\'sans bold\\'>\\nNikita Lalwani\\n</p>\\n<p class=\\'genre-links hidden-phone\\'>\\n<a href=\"/search?book_genre=fiction\">Fiction</a>\\n / \\n<a href=\"/search?book_genre=literary_fiction\">Literary Fiction</a>\\n</p>\\n\\n<p class=\\'excerpt\\'>\\nNikita Lalwani\\'s magical novel invites us to ponder generosity and human kindness.\\n</p>\\n<div class=\\'read-full\\'>\\n<a href=\"/reviews/26296-nikita-lalwani-you-people-fiction\">Read the Review <i class=\\'zmdi zmdi-chevron-right\\'></i></a>\\n</div>\\n</div>\\n<br class=\\'clear\\'>\\n</div>\\n\\n</div>\\n<div class=\\'row-fluid article-row\\'>\\n<div class=\\'bp-block article-info\\'>\\n<div class=\\'article-list-left\\'>\\n<a href=\"/reviews/26317-andrew-prahin-ship-bottle-childrens\"><img src=\"https://t1.bookpage.com/books/images/bf65b1f1ec857069591f25d1c2382aba/medium.jpg\" alt=\"Medium\" /></a>\\n</div>\\n<div class=\\'flex-article-content\\'>\\n<h4 class=\\'italic\\'>\\n<a href=\"/reviews/26317-andrew-prahin-ship-bottle-childrens\"> <span style=\\'font-style:normal;\\'>&#x2605 </span>Ship in a Bottle</a>\\n</h4>\\n<p class=\\'sans bold\\'>\\nAndrew Prahin\\n</p>\\n<p class=\\'genre-links hidden-phone\\'>\\n<a href=\"/search?book_genre=children_s\">Children&#39;s</a>\\n / \\n<a href=\"/search?book_genre=children_s_picture_book\">Children&#39;s Picture Book</a>\\n</p>\\n\\n<p class=\\'excerpt\\'>\\n<p>Poor Mouse. She lives with Cat, and needless to say, there are . . . problems.</p>\\n</p>\\n<div class=\\'read-full\\'>\\n<a href=\"/reviews/26317-andrew-prahin-ship-bottle-childrens\">Read the Review <i class=\\'zmdi zmdi-chevron-right\\'></i></a>\\n</div>\\n</div>\\n<br class=\\'clear\\'>\\n</div>\\n\\n</div>\\n<div class=\\'row-fluid article-row\\'>\\n<div class=\\'bp-block article-info\\'>\\n<div class=\\'article-list-left\\'>\\n<a href=\"/reviews/26327-emiko-jean-tokyo-ever-after-ya\"><img src=\"https://t1.bookpage.com/books/images/8dbf143b1a7da733b3723023743c735a/medium.jpg\" alt=\"Medium\" /></a>\\n</div>\\n<div class=\\'flex-article-content\\'>\\n<h4 class=\\'italic\\'>\\n<a href=\"/reviews/26327-emiko-jean-tokyo-ever-after-ya\">Tokyo Ever After</a>\\n</h4>\\n<p class=\\'sans bold\\'>\\nEmiko Jean\\n</p>\\n<p class=\\'genre-links hidden-phone\\'>\\n<a href=\"/search?book_genre=ya\">YA</a>\\n / \\n<a href=\"/search?book_genre=ya_fiction\">YA Fiction</a>\\n</p>\\n\\n<p class=\\'excerpt\\'>\\n<p>There&rsquo;s no shortage of YA novels in which a commoner gets involved with a royal family and/or discovers their royal lineage, but as enjoyable as this trope is, most of these novels involve British or European monarchies. Emiko Jean&rsquo;s <b>Tokyo Ever After </b>sets a thoroughly modern fairy...</p>\\n</p>\\n<div class=\\'read-full\\'>\\n<a href=\"/reviews/26327-emiko-jean-tokyo-ever-after-ya\">Read the Review <i class=\\'zmdi zmdi-chevron-right\\'></i></a>\\n</div>\\n</div>\\n<br class=\\'clear\\'>\\n</div>\\n\\n</div>\\n<div class=\\'row-fluid article-row\\'>\\n<div class=\\'bp-block article-info\\'>\\n<div class=\\'article-list-left\\'>\\n<a href=\"/reviews/26289-natasha-pulley-kingdoms-fiction\"><img src=\"https://t1.bookpage.com/books/images/94d93e0f94030b8812b9a06b9e63aa28/medium.jpg\" alt=\"Medium\" /></a>\\n</div>\\n<div class=\\'flex-article-content\\'>\\n<h4 class=\\'italic\\'>\\n<a href=\"/reviews/26289-natasha-pulley-kingdoms-fiction\">The Kingdoms</a>\\n</h4>\\n<p class=\\'sans bold\\'>\\nNatasha Pulley\\n</p>\\n<p class=\\'genre-links hidden-phone\\'>\\n<a href=\"/search?book_genre=fiction\">Fiction</a>\\n / \\n<a href=\"/search?book_genre=speculative_fiction\">Speculative Fiction</a>\\n</p>\\n\\n<p class=\\'excerpt\\'>\\nNatasha Pulley balances the topsy-turvy nature of time travel by grounding her story in naval history and a gradually unfolding queer love story.\\n</p>\\n<div class=\\'read-full\\'>\\n<a href=\"/reviews/26289-natasha-pulley-kingdoms-fiction\">Read the Review <i class=\\'zmdi zmdi-chevron-right\\'></i></a>\\n</div>\\n</div>\\n<br class=\\'clear\\'>\\n</div>\\n\\n</div>\\n<div class=\\'pagination\\'>\\n<ul>\\n\\n\\n<li class=\\'active\\'>\\n<a href=\"#\">1</a>\\n</li>\\n\\n<li class=\\'\\'>\\n<a rel=\"next\" href=\"/reviews?page=2\">2</a>\\n</li>\\n\\n<li class=\\'\\'>\\n<a href=\"/reviews?page=3\">3</a>\\n</li>\\n\\n<li class=\\'disabled\\'>\\n<a href=\"#\">&hellip;</a>\\n</li>\\n\\n<li>\\n<a rel=\"next\" href=\"/reviews?page=2\">Next &rsaquo;</a>\\n</li>\\n\\n<li>\\n<a href=\"/reviews?page=1000\">Last &raquo;</a>\\n</li>\\n\\n</ul>\\n</div>\\n\\n</div>\\n</div>\\n<!-- Refinements Column -->\\n<div class=\\'span3\\'>\\n<div id=\\'facet-box\\'>\\n<div class=\\'hidden-phone\\'>\\n<div class=\\'sidebar-header facet-header\\'>\\n<span>\\nBrowse Book reviews\\n</span>\\n</div>\\n<div class=\\'sidebar-body\\'>\\n<div class=\\'facets\\'>\\n<p aria-controls=\\'Genres\\' aria-expanded=\\'false\\' data-target=\\'#Genres\\' data-toggle=\\'collapse\\'>\\nGenres <i class=\\'zmdi zmdi-chevron-down\\'></i>\\n</p>\\n<ul class=\\'collapse\\' id=\\'Genres\\'>\\n<li>\\n<a href=\"/reviews?book_genre=fiction&amp;page=1\">Fiction</a>\\n</li>\\n<li>\\n<a href=\"/reviews?book_genre=children_s&amp;page=1\">Children&#39;s</a>\\n</li>\\n<li>\\n<a href=\"/reviews?book_genre=nonfiction&amp;page=1\">Nonfiction</a>\\n</li>\\n<li>\\n<a href=\"/reviews?book_genre=biography_memoir&amp;page=1\">Biography Memoir</a>\\n</li>\\n<li>\\n<a href=\"/reviews?book_genre=ya&amp;page=1\">YA</a>\\n</li>\\n<li>\\n<a href=\"/reviews?book_genre=ya_fiction&amp;page=1\">YA Fiction</a>\\n</li>\\n<li>\\n<a href=\"/reviews?book_genre=memoir&amp;page=1\">Memoir</a>\\n</li>\\n<li>\\n<a href=\"/reviews?book_genre=mystery_suspense&amp;page=1\">Mystery Suspense</a>\\n</li>\\n<li>\\n<a href=\"/reviews?book_genre=history&amp;page=1\">History</a>\\n</li>\\n<li>\\n<a href=\"/reviews?book_genre=children_s_chapter&amp;page=1\">Children&#39;s Chapter</a>\\n</li>\\n<li>\\n<a href=\"/reviews?book_genre=children_s_picture&amp;page=1\">Children&#39;s Picture</a>\\n</li>\\n<li>\\n<a href=\"/reviews?book_genre=historical_fiction&amp;page=1\">Historical Fiction</a>\\n</li>\\n<li>\\n<a href=\"/reviews?book_genre=biography&amp;page=1\">Biography</a>\\n</li>\\n<li>\\n<a href=\"/reviews?book_genre=debut_fiction&amp;page=1\">Debut Fiction</a>\\n</li>\\n<li>\\n<a href=\"/reviews?book_genre=literary_fiction&amp;page=1\">Literary Fiction</a>\\n</li>\\n<li>\\n<a href=\"/reviews?book_genre=business_finance&amp;page=1\">Business Finance</a>\\n</li>\\n<li>\\n<a href=\"/reviews?book_genre=science_fiction_fantasy&amp;page=1\">Science Fiction Fantasy</a>\\n</li>\\n<li>\\n<a href=\"/reviews?book_genre=suspense&amp;page=1\">Suspense</a>\\n</li>\\n<li>\\n<a href=\"/reviews?book_genre=arts_culture&amp;page=1\">Arts Culture</a>\\n</li>\\n<li>\\n<a href=\"/reviews?book_genre=mystery&amp;page=1\">Mystery</a>\\n</li>\\n<li>\\n<a href=\"/reviews?book_genre=science_nature&amp;page=1\">Science Nature</a>\\n</li>\\n<li>\\n<a href=\"/reviews?book_genre=lifestyles&amp;page=1\">Lifestyles</a>\\n</li>\\n<li>\\n<a href=\"/reviews?book_genre=romance&amp;page=1\">Romance</a>\\n</li>\\n<li>\\n<a href=\"/reviews?book_genre=fantasy&amp;page=1\">Fantasy</a>\\n</li>\\n<li>\\n<a href=\"/reviews?book_genre=women_s_fiction&amp;page=1\">Women&#39;s Fiction</a>\\n</li>\\n<li>\\n<a href=\"/reviews?book_genre=science&amp;page=1\">Science</a>\\n</li>\\n<li>\\n<a href=\"/reviews?book_genre=sports&amp;page=1\">Sports</a>\\n</li>\\n<li>\\n<a href=\"/reviews?book_genre=family_relationships&amp;page=1\">Family Relationships</a>\\n</li>\\n<li>\\n<a href=\"/reviews?book_genre=contemporary_romance&amp;page=1\">Contemporary Romance</a>\\n</li>\\n<li>\\n<a href=\"/reviews?book_genre=science_fiction&amp;page=1\">Science Fiction</a>\\n</li>\\n</ul>\\n</div>\\n\\n\\n</div>\\n\\n</div>\\n<div class=\\'bp-well email-bar sidebar\\'>\\n<div class=\\'row-fluid text-content\\'>\\n<div class=\\'col\\'>\\n<a class=\\'button\\' href=\\'https://signup.e2ma.net/signup/1896962/28888/\\' onclick=\"window.open(\\'https://signup.e2ma.net/signup/1896962/28888/\\', \\'signup\\', \\'menubar=no, location=no, toolbar=no, scrollbars=yes, height=800, width=500\\'); return false;\">\\n<p>Sign up for our newsletters!</p>\\n</a>\\n</div>\\n</div>\\n</div>\\n\\n\\n</div>\\n<div class=\\'sq-ad btm-margin\\'>\\n<script type=\"text/javascript\" language=\"JavaScript\">\\n aj_server = \\'https://litbreaker.nui.media/pipeline/\\'; aj_tagver = \\'1.0\\';\\n aj_zone = \\'litbreaker\\'; aj_adspot = \\'519024\\'; aj_page = \\'0\\'; aj_dim =\\'514841\\'; aj_ch = \\'\\'; aj_ct = \\'\\'; aj_kw = \\'\\';\\n aj_pv = true; aj_click = \\'\\';\\n</script><script type=\"text/javascript\" language=\"JavaScript\" src=\"https://img.nui.media/banners/ajtg.js\"></script>\\n\\n</div>\\n</div>\\n</div>\\n<div class=\\'row-fluid button-row\\'>\\n\\n<!-- billboard size -->\\n<script type=\"text/javascript\" language=\"JavaScript\">\\nif (window.innerWidth <= 600) {\\nvar aj_dim = 514841;\\n} else if (window.innerWidth >= 1000) {\\nvar aj_dim = \\'514838,514839\\';\\n} else {\\nvar aj_dim = 514839;\\n};\\naj_server = \\'https://litbreaker.nui.media/pipeline/\\'; aj_tagver = \\'1.0\\';\\naj_zone = \\'litbreaker\\'; aj_adspot = \\'518299\\'; aj_page = \\'0\\'; aj_ch = \\'\\'; aj_kw = \\'\\';\\naj_pv = true; aj_click = \\'\\';\\n</script><script type=\"text/javascript\" language=\"JavaScript\" src=\"https://img.nui.media/banners/ajtg.js\"></script>\\n\\n<!-- <script type=\"text/javascript\" language=\"JavaScript\">\\naj_server = \\'https://litbreaker.nui.media/pipeline/\\'; aj_tagver = \\'1.0\\';\\naj_zone = \\'litbreaker\\'; aj_adspot = \\'518299\\'; aj_page = \\'0\\'; aj_dim =\\'514838,514839\\'; aj_ch = \\'\\'; aj_ct = \\'\\'; aj_kw = \\'\\';\\naj_pv = true; aj_click = \\'\\';\\n</script><script type=\"text/javascript\" language=\"JavaScript\" src=\"https://img.nui.media/banners/ajtg.js\"></script>\\n-->\\n\\n<!-- <script type=\"text/javascript\" language=\"JavaScript\">\\naj_server = \\'https://litbreaker.nui.media/pipeline/\\'; aj_tagver = \\'1.0\\';\\naj_zone = \\'litbreaker\\'; aj_adspot = \\'557205\\'; aj_page = \\'0\\'; aj_dim =\\'514838\\'; aj_ch = \\'\\'; aj_ct = \\'\\'; aj_kw = \\'\\';\\naj_pv = true; aj_click = \\'\\';\\n</script><script type=\"text/javascript\" language=\"JavaScript\" src=\"https://img.nui.media/banners/ajtg.js\"></script> -->\\n\\n</div>\\n</div>\\n\\n</div>\\n</div>\\n<div class=\\'container-fluid no-padding\\'>\\n<div class=\\'footer row-fluid\\'>\\n<div class=\\'dark-block span12\\'>\\n<footer>\\n<div class=\\'row-fluid brand\\'>\\n<div class=\\'span3\\'></div>\\n<div class=\\'span6 middle\\'>\\n<img width=\"156\" height=\"36\" class=\"brand\" src=\"/assets/logos/logo_gray-895f864507d68e549bee2b02a0872a197ce42fe59b407ad4651db8acf446f06b.png\" alt=\"Logo gray\" />\\n</div>\\n</div>\\n<div class=\\'row-fluid\\'>\\n<p class=\\'list-header\\'>Subscriptions</p>\\n<p class=\\'sitemap\\'>\\n<a target=\"_blank\" href=\"http://www.subscriptions.bookpage.com/bookstore\">Bookstore</a>\\n\\xe2\\x80\\xa2\\n<a target=\"_blank\" href=\"http://www.subscriptions.bookpage.com/library\">Library</a>\\n\\xe2\\x80\\xa2\\n<a target=\"_blank\" href=\"http://MIurl.cc/Z6eD1pmI\">Individual</a>\\n\\xe2\\x80\\xa2\\n<a href=\"https://www.amazon.com/BookPage/dp/B00ATRKG30/ref=sr_1_1?ie=UTF8&amp;qid=1533306733&amp;sr=8-1&amp;keywords=bookpage\">Digital\\n</a>\\xe2\\x80\\xa2\\n<a href=\"/content/locations\">Find BookPage\\n</a></p>\\n</div>\\n<div class=\\'row-fluid\\'>\\n<p class=\\'list-header\\'>Company</p>\\n<p class=\\'sitemap\\'>\\n<a href=\"/content/about-us\">About BookPage\\n</a>\\xe2\\x80\\xa2\\n<a href=\"/content/advertise\">Advertise\\n</a>\\xe2\\x80\\xa2\\n<a href=\"/content/contact-us\">Contact Us\\n</a>\\xe2\\x80\\xa2\\n<a href=\"/content/privacy\">Privacy Policy\\n</a>\\xe2\\x80\\xa2\\n<a href=\"/content/submission-guidelines\">Submission Guidelines\\n</a></p>\\n</div>\\n<div class=\\'row-fluid\\'>\\n<div class=\\'social-block\\'>\\n<a href=\"https://www.facebook.com/pages/BookPage/116675947874\"><i class=\\'zmdi zmdi-facebook-box\\'></i></a>\\n<a href=\"https://twitter.com/bookpage\"><i class=\\'zmdi zmdi-twitter-box\\'></i></a>\\n<a href=\"https://www.instagram.com/readbookpage/?hl=en\"><i class=\\'zmdi zmdi-instagram\\'></i></a>\\n</div>\\n</div>\\n<div class=\\'row-fluid copyright\\'>\\n<p>&copy; 1996-2021 BookPage and ProMotion, inc. | 2143 Belcourt Avenue, Nashville, TN 37212</p>\\n</div>\\n</footer>\\n</div>\\n</div>\\n\\n</div>\\n<script src=\"/assets/application-8a7d9ed6d528157c163702ce8da91235bc386358e07d32fbb4658ae48c768826.js\"></script>\\n<script id=\"e2ma-embed\" type=\"text/javascript\">window.e2ma=window.e2ma||{};e2ma.accountId=\\'28888\\';</script>\\n<script src=\"//dk98ddgl0znzm.cloudfront.net/e2ma.js\" async=\"async\"></script>\\n\\n</body>\\n</html>\\n'"
      ]
     },
     "execution_count": 27,
     "metadata": {},
     "output_type": "execute_result"
    }
   ],
   "source": [
    "page.content"
   ]
  },
  {
   "cell_type": "code",
   "execution_count": 28,
   "metadata": {},
   "outputs": [],
   "source": [
    "soup=BeautifulSoup(page.content,'html.parser')"
   ]
  },
  {
   "cell_type": "code",
   "execution_count": 29,
   "metadata": {},
   "outputs": [],
   "source": [
    "book_titles=[]\n",
    "author_names=[]\n",
    "book_genre=[]\n",
    "reviews=[]"
   ]
  },
  {
   "cell_type": "code",
   "execution_count": 30,
   "metadata": {},
   "outputs": [],
   "source": [
    "titles=soup.find_all('h4',class_='italic')"
   ]
  },
  {
   "cell_type": "code",
   "execution_count": 31,
   "metadata": {},
   "outputs": [
    {
     "data": {
      "text/plain": [
       "[<h4 class=\"italic\">\n",
       " <a href=\"/reviews/26281-mieko-kawakami-heaven-fiction\">Heaven</a>\n",
       " </h4>,\n",
       " <h4 class=\"italic\">\n",
       " <a href=\"/reviews/26287-steven-rowley-guncle-fiction\">The Guncle</a>\n",
       " </h4>,\n",
       " <h4 class=\"italic\">\n",
       " <a href=\"/reviews/26326-regina-m-hansen-coming-storm-ya\">The Coming Storm</a>\n",
       " </h4>,\n",
       " <h4 class=\"italic\">\n",
       " <a href=\"/reviews/26325-nicola-yoon-instructions-dancing-ya\"> <span style=\"font-style:normal;\">★ </span>Instructions for Dancing</a>\n",
       " </h4>,\n",
       " <h4 class=\"italic\">\n",
       " <a href=\"/reviews/26310-jonathan-balcombe-super-fly-nonfiction\">Super Fly</a>\n",
       " </h4>]"
      ]
     },
     "execution_count": 31,
     "metadata": {},
     "output_type": "execute_result"
    }
   ],
   "source": [
    "titles[0:5]"
   ]
  },
  {
   "cell_type": "code",
   "execution_count": 32,
   "metadata": {},
   "outputs": [],
   "source": [
    "for i in titles:\n",
    "    book_titles.append(i.get_text().replace(\"\\n\",\"\"))"
   ]
  },
  {
   "cell_type": "code",
   "execution_count": 33,
   "metadata": {},
   "outputs": [
    {
     "data": {
      "text/plain": [
       "['Heaven',\n",
       " 'The Guncle',\n",
       " 'The Coming Storm',\n",
       " ' ★ Instructions for Dancing',\n",
       " 'Super Fly',\n",
       " 'The Lights of Prague',\n",
       " 'You People',\n",
       " ' ★ Ship in a Bottle',\n",
       " 'Tokyo Ever After',\n",
       " 'The Kingdoms']"
      ]
     },
     "execution_count": 33,
     "metadata": {},
     "output_type": "execute_result"
    }
   ],
   "source": [
    "book_titles"
   ]
  },
  {
   "cell_type": "code",
   "execution_count": 34,
   "metadata": {},
   "outputs": [],
   "source": [
    "author=soup.find_all('p',class_='sans bold')"
   ]
  },
  {
   "cell_type": "code",
   "execution_count": 35,
   "metadata": {},
   "outputs": [
    {
     "data": {
      "text/plain": [
       "[<p class=\"sans bold\">\n",
       " Mieko Kawakami, Sam Bett, David Boyd\n",
       " </p>,\n",
       " <p class=\"sans bold\">\n",
       " Steven Rowley\n",
       " </p>,\n",
       " <p class=\"sans bold\">\n",
       " Regina M. Hansen\n",
       " </p>,\n",
       " <p class=\"sans bold\">\n",
       " Nicola Yoon\n",
       " </p>,\n",
       " <p class=\"sans bold\">\n",
       " Jonathan Balcombe\n",
       " </p>]"
      ]
     },
     "execution_count": 35,
     "metadata": {},
     "output_type": "execute_result"
    }
   ],
   "source": [
    "author[0:5]"
   ]
  },
  {
   "cell_type": "code",
   "execution_count": 36,
   "metadata": {},
   "outputs": [],
   "source": [
    "for i in author:\n",
    "    author_names.append(i.get_text().replace(\"\\n\",\"\"))"
   ]
  },
  {
   "cell_type": "code",
   "execution_count": 37,
   "metadata": {},
   "outputs": [
    {
     "data": {
      "text/plain": [
       "['Mieko Kawakami, Sam Bett, David Boyd',\n",
       " 'Steven Rowley',\n",
       " 'Regina M. Hansen',\n",
       " 'Nicola Yoon',\n",
       " 'Jonathan Balcombe',\n",
       " 'Nicole Jarvis',\n",
       " 'Nikita Lalwani',\n",
       " 'Andrew Prahin',\n",
       " 'Emiko Jean',\n",
       " 'Natasha Pulley']"
      ]
     },
     "execution_count": 37,
     "metadata": {},
     "output_type": "execute_result"
    }
   ],
   "source": [
    "author_names[0:10]"
   ]
  },
  {
   "cell_type": "code",
   "execution_count": 38,
   "metadata": {},
   "outputs": [],
   "source": [
    "genre=soup.find_all('p',class_=\"genre-links hidden-phone\")"
   ]
  },
  {
   "cell_type": "code",
   "execution_count": 39,
   "metadata": {},
   "outputs": [
    {
     "data": {
      "text/plain": [
       "[<p class=\"genre-links hidden-phone\">\n",
       " <a href=\"/search?book_genre=fiction\">Fiction</a>\n",
       "  / \n",
       " <a href=\"/search?book_genre=coming_of_age\">Coming of Age</a>\n",
       " </p>,\n",
       " <p class=\"genre-links hidden-phone\">\n",
       " <a href=\"/search?book_genre=fiction\">Fiction</a>\n",
       "  / \n",
       " <a href=\"/search?book_genre=family_drama\">Family Drama</a>\n",
       " </p>,\n",
       " <p class=\"genre-links hidden-phone\">\n",
       " <a href=\"/search?book_genre=ya\">YA</a>\n",
       "  / \n",
       " <a href=\"/search?book_genre=ya_fiction\">YA Fiction</a>\n",
       " </p>,\n",
       " <p class=\"genre-links hidden-phone\">\n",
       " <a href=\"/search?book_genre=ya\">YA</a>\n",
       "  / \n",
       " <a href=\"/search?book_genre=ya_fiction\">YA Fiction</a>\n",
       " </p>,\n",
       " <p class=\"genre-links hidden-phone\">\n",
       " <a href=\"/search?book_genre=nonfiction\">Nonfiction</a>\n",
       "  / \n",
       " <a href=\"/search?book_genre=science_nature\">Science &amp; Nature</a>\n",
       "  / \n",
       " <a href=\"/search?book_genre=animals\">Animals</a>\n",
       " </p>,\n",
       " <p class=\"genre-links hidden-phone\">\n",
       " <a href=\"/search?book_genre=science_fiction_fantasy\">Science Fiction &amp; Fantasy</a>\n",
       "  / \n",
       " <a href=\"/search?book_genre=fantasy\">Fantasy</a>\n",
       "  / \n",
       " <a href=\"/search?book_genre=historical_fantasy\">Historical Fantasy</a>\n",
       " </p>,\n",
       " <p class=\"genre-links hidden-phone\">\n",
       " <a href=\"/search?book_genre=fiction\">Fiction</a>\n",
       "  / \n",
       " <a href=\"/search?book_genre=literary_fiction\">Literary Fiction</a>\n",
       " </p>,\n",
       " <p class=\"genre-links hidden-phone\">\n",
       " <a href=\"/search?book_genre=children_s\">Children's</a>\n",
       "  / \n",
       " <a href=\"/search?book_genre=children_s_picture_book\">Children's Picture Book</a>\n",
       " </p>,\n",
       " <p class=\"genre-links hidden-phone\">\n",
       " <a href=\"/search?book_genre=ya\">YA</a>\n",
       "  / \n",
       " <a href=\"/search?book_genre=ya_fiction\">YA Fiction</a>\n",
       " </p>,\n",
       " <p class=\"genre-links hidden-phone\">\n",
       " <a href=\"/search?book_genre=fiction\">Fiction</a>\n",
       "  / \n",
       " <a href=\"/search?book_genre=speculative_fiction\">Speculative Fiction</a>\n",
       " </p>]"
      ]
     },
     "execution_count": 39,
     "metadata": {},
     "output_type": "execute_result"
    }
   ],
   "source": [
    "genre[0:10]"
   ]
  },
  {
   "cell_type": "code",
   "execution_count": 41,
   "metadata": {},
   "outputs": [],
   "source": [
    "for i in genre:\n",
    "    book_genre.append(i.get_text().replace(\"\\n\",\" \"))"
   ]
  },
  {
   "cell_type": "code",
   "execution_count": 42,
   "metadata": {},
   "outputs": [
    {
     "data": {
      "text/plain": [
       "[' Fiction  /  Coming of Age ',\n",
       " ' Fiction  /  Family Drama ',\n",
       " ' YA  /  YA Fiction ',\n",
       " ' YA  /  YA Fiction ',\n",
       " ' Nonfiction  /  Science & Nature  /  Animals ']"
      ]
     },
     "execution_count": 42,
     "metadata": {},
     "output_type": "execute_result"
    }
   ],
   "source": [
    "book_genre[0:5]"
   ]
  },
  {
   "cell_type": "code",
   "execution_count": 43,
   "metadata": {},
   "outputs": [],
   "source": [
    "review=soup.find_all('p',class_=\"excerpt\")"
   ]
  },
  {
   "cell_type": "code",
   "execution_count": 44,
   "metadata": {},
   "outputs": [
    {
     "data": {
      "text/plain": [
       "[<p class=\"excerpt\">\n",
       " Mieko Kawakami’s novel is not a cruel story, but rather one that understands hurt and pain for what it is: universal, unjust and material for new life.\n",
       " </p>,\n",
       " <p class=\"excerpt\">\n",
       " Never going too dark, <strong>The Guncle</strong> is a sweet family story of an uncle trying to bring color and light into his niece’s and nephew’s lives.\n",
       " </p>,\n",
       " <p class=\"excerpt\">\n",
       " <p>First-time author Regina M. Hansen stakes her own Prince Edward Island literary claim via another ginger-haired girl, Beatrice MacNeill, known as “Beet.” Like Anne, she’s determined and sharp-witted. Unlike Anne, she discovers one fateful night in 1949 that she can see...</p>\n",
       " </p>,\n",
       " <p class=\"excerpt\">\n",
       " <p>When Evie tries to get rid of her romance novel collection, a strange encounter leaves her with two things: the address for the La Brea Dance Studio and unnerving visions of exactly how other couples’ love stories will end.</p>\n",
       " </p>,\n",
       " <p class=\"excerpt\">\n",
       " From wound-healing maggots to flies that helped overturn wrongful convictions, there’s much to learn about the heroism of these tiny creatures.\n",
       " </p>]"
      ]
     },
     "execution_count": 44,
     "metadata": {},
     "output_type": "execute_result"
    }
   ],
   "source": [
    "review[0:5]"
   ]
  },
  {
   "cell_type": "code",
   "execution_count": 45,
   "metadata": {},
   "outputs": [],
   "source": [
    "for i in review:\n",
    "    reviews.append(i.get_text().replace(\"\\n\",\"\"))"
   ]
  },
  {
   "cell_type": "code",
   "execution_count": 46,
   "metadata": {},
   "outputs": [
    {
     "data": {
      "text/plain": [
       "['Mieko Kawakami’s novel is not a cruel story, but rather one that understands hurt and pain for what it is: universal, unjust and material for new life.',\n",
       " 'Never going too dark, The Guncle is a sweet family story of an uncle trying to bring color and light into his niece’s and nephew’s lives.',\n",
       " 'First-time author Regina M. Hansen stakes her own Prince Edward Island literary claim via another ginger-haired girl, Beatrice MacNeill, known as “Beet.” Like Anne, she’s determined and sharp-witted. Unlike Anne, she discovers one fateful night in 1949 that she can see...',\n",
       " 'When Evie tries to get rid of her romance novel collection, a strange encounter leaves her with two things: the address for the La Brea Dance Studio and unnerving visions of exactly how other couples’ love stories will end.',\n",
       " 'From wound-healing maggots to flies that helped overturn wrongful convictions, there’s much to learn about the heroism of these tiny creatures.',\n",
       " 'Nicole Jarvis’ debut fantasy, The Lights of Prague, welcomes readers into an arresting and vivid historical fantasy world.',\n",
       " \"Nikita Lalwani's magical novel invites us to ponder generosity and human kindness.\",\n",
       " 'Poor Mouse. She lives with Cat, and needless to say, there are . . . problems.',\n",
       " 'There’s no shortage of YA novels in which a commoner gets involved with a royal family and/or discovers their royal lineage, but as enjoyable as this trope is, most of these novels involve British or European monarchies. Emiko Jean’s Tokyo Ever After sets a thoroughly modern fairy...',\n",
       " 'Natasha Pulley balances the topsy-turvy nature of time travel by grounding her story in naval history and a gradually unfolding queer love story.']"
      ]
     },
     "execution_count": 46,
     "metadata": {},
     "output_type": "execute_result"
    }
   ],
   "source": [
    "reviews[0:10]"
   ]
  },
  {
   "cell_type": "code",
   "execution_count": 47,
   "metadata": {},
   "outputs": [
    {
     "name": "stdout",
     "output_type": "stream",
     "text": [
      "10 10 10 10\n"
     ]
    }
   ],
   "source": [
    "print(len(book_titles),len(author_names),len(book_genre),len(reviews))"
   ]
  },
  {
   "cell_type": "code",
   "execution_count": 49,
   "metadata": {},
   "outputs": [],
   "source": [
    "book_details=pd.DataFrame({})\n",
    "book_details['book_name']=book_titles[0:5]\n",
    "book_details['author_name']=author_names[0:5]\n",
    "book_details['book_genre']=book_genre[0:5]\n",
    "book_details['reviews']=reviews[0:5]"
   ]
  },
  {
   "cell_type": "code",
   "execution_count": 50,
   "metadata": {},
   "outputs": [
    {
     "data": {
      "text/html": [
       "<div>\n",
       "<style scoped>\n",
       "    .dataframe tbody tr th:only-of-type {\n",
       "        vertical-align: middle;\n",
       "    }\n",
       "\n",
       "    .dataframe tbody tr th {\n",
       "        vertical-align: top;\n",
       "    }\n",
       "\n",
       "    .dataframe thead th {\n",
       "        text-align: right;\n",
       "    }\n",
       "</style>\n",
       "<table border=\"1\" class=\"dataframe\">\n",
       "  <thead>\n",
       "    <tr style=\"text-align: right;\">\n",
       "      <th></th>\n",
       "      <th>book_name</th>\n",
       "      <th>author_name</th>\n",
       "      <th>book_genre</th>\n",
       "      <th>reviews</th>\n",
       "    </tr>\n",
       "  </thead>\n",
       "  <tbody>\n",
       "    <tr>\n",
       "      <th>0</th>\n",
       "      <td>Heaven</td>\n",
       "      <td>Mieko Kawakami, Sam Bett, David Boyd</td>\n",
       "      <td>Fiction  /  Coming of Age</td>\n",
       "      <td>Mieko Kawakami’s novel is not a cruel story, b...</td>\n",
       "    </tr>\n",
       "    <tr>\n",
       "      <th>1</th>\n",
       "      <td>The Guncle</td>\n",
       "      <td>Steven Rowley</td>\n",
       "      <td>Fiction  /  Family Drama</td>\n",
       "      <td>Never going too dark, The Guncle is a sweet fa...</td>\n",
       "    </tr>\n",
       "    <tr>\n",
       "      <th>2</th>\n",
       "      <td>The Coming Storm</td>\n",
       "      <td>Regina M. Hansen</td>\n",
       "      <td>YA  /  YA Fiction</td>\n",
       "      <td>First-time author Regina M. Hansen stakes her ...</td>\n",
       "    </tr>\n",
       "    <tr>\n",
       "      <th>3</th>\n",
       "      <td>★ Instructions for Dancing</td>\n",
       "      <td>Nicola Yoon</td>\n",
       "      <td>YA  /  YA Fiction</td>\n",
       "      <td>When Evie tries to get rid of her romance nove...</td>\n",
       "    </tr>\n",
       "    <tr>\n",
       "      <th>4</th>\n",
       "      <td>Super Fly</td>\n",
       "      <td>Jonathan Balcombe</td>\n",
       "      <td>Nonfiction  /  Science &amp; Nature  /  Animals</td>\n",
       "      <td>From wound-healing maggots to flies that helpe...</td>\n",
       "    </tr>\n",
       "  </tbody>\n",
       "</table>\n",
       "</div>"
      ],
      "text/plain": [
       "                     book_name                           author_name  \\\n",
       "0                       Heaven  Mieko Kawakami, Sam Bett, David Boyd   \n",
       "1                   The Guncle                         Steven Rowley   \n",
       "2             The Coming Storm                      Regina M. Hansen   \n",
       "3   ★ Instructions for Dancing                           Nicola Yoon   \n",
       "4                    Super Fly                     Jonathan Balcombe   \n",
       "\n",
       "                                      book_genre  \\\n",
       "0                     Fiction  /  Coming of Age    \n",
       "1                      Fiction  /  Family Drama    \n",
       "2                             YA  /  YA Fiction    \n",
       "3                             YA  /  YA Fiction    \n",
       "4   Nonfiction  /  Science & Nature  /  Animals    \n",
       "\n",
       "                                             reviews  \n",
       "0  Mieko Kawakami’s novel is not a cruel story, b...  \n",
       "1  Never going too dark, The Guncle is a sweet fa...  \n",
       "2  First-time author Regina M. Hansen stakes her ...  \n",
       "3  When Evie tries to get rid of her romance nove...  \n",
       "4  From wound-healing maggots to flies that helpe...  "
      ]
     },
     "execution_count": 50,
     "metadata": {},
     "output_type": "execute_result"
    }
   ],
   "source": [
    "book_details"
   ]
  },
  {
   "cell_type": "code",
   "execution_count": null,
   "metadata": {},
   "outputs": [],
   "source": []
  }
 ],
 "metadata": {
  "kernelspec": {
   "display_name": "Python 3",
   "language": "python",
   "name": "python3"
  },
  "language_info": {
   "codemirror_mode": {
    "name": "ipython",
    "version": 3
   },
   "file_extension": ".py",
   "mimetype": "text/x-python",
   "name": "python",
   "nbconvert_exporter": "python",
   "pygments_lexer": "ipython3",
   "version": "3.8.5"
  }
 },
 "nbformat": 4,
 "nbformat_minor": 4
}
